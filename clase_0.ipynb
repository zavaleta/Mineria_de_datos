{
 "cells": [
  {
   "cell_type": "markdown",
   "id": "8641a926-077a-4573-bcb4-ce9b69751bc3",
   "metadata": {
    "tags": []
   },
   "source": [
    "![](images/untumbes.PNG)"
   ]
  },
  {
   "cell_type": "markdown",
   "id": "b94378f0",
   "metadata": {},
   "source": [
    "---\n",
    "![](images/bio-zava.PNG)"
   ]
  },
  {
   "cell_type": "markdown",
   "id": "da295153",
   "metadata": {},
   "source": [
    "---"
   ]
  },
  {
   "cell_type": "markdown",
   "id": "ab8361de",
   "metadata": {},
   "source": [
    "\n",
    "# Sumilla del curso"
   ]
  },
  {
   "cell_type": "markdown",
   "id": "f11a1ac3",
   "metadata": {},
   "source": [
    "> ## 1. Introducción a los fundamentos de minería de datos.\n",
    "> ## 2. Fases de la Minería de datos.\n",
    "> ## 3. Modelos de clasificación.\n",
    "> ## 4. Arboles de decisión, modelos de regresión.\n",
    "> ## 5. Redes neuronales, modelos de agrupamiento y algoritmo, modelos de asociación.\n",
    "> ## 6. Algoritmo a priori, análisis de casos."
   ]
  },
  {
   "cell_type": "markdown",
   "id": "a2531ce3",
   "metadata": {},
   "source": [
    " ---\n",
    " Copyrights &copy; Jorge Zavaleta, 2024"
   ]
  }
 ],
 "metadata": {
  "kernelspec": {
   "display_name": "Python 3 (ipykernel)",
   "language": "python",
   "name": "python3"
  },
  "language_info": {
   "codemirror_mode": {
    "name": "ipython",
    "version": 3
   },
   "file_extension": ".py",
   "mimetype": "text/x-python",
   "name": "python",
   "nbconvert_exporter": "python",
   "pygments_lexer": "ipython3",
   "version": "3.11.5"
  }
 },
 "nbformat": 4,
 "nbformat_minor": 5
}
