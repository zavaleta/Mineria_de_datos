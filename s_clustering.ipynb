{
 "cells": [
  {
   "cell_type": "markdown",
   "id": "bebd50ff-21ec-4c5a-8ec6-c3ee6a98063c",
   "metadata": {},
   "source": [
    "![logo](images/untumbes.PNG)"
   ]
  },
  {
   "cell_type": "markdown",
   "id": "d76da39d-8156-464d-a969-1e145ace97d8",
   "metadata": {},
   "source": [
    "<center><b>Prof. Dr. Jorge Zavaleta - zavaleta.jorge@gmail.com</b></center>"
   ]
  },
  {
   "cell_type": "markdown",
   "id": "ee93cdd7-b424-4030-828b-be7dce818ba6",
   "metadata": {},
   "source": [
    "# Agrupamientos espectrales"
   ]
  },
  {
   "cell_type": "markdown",
   "id": "0360983f-78c4-4632-af67-0ca7bf718519",
   "metadata": {},
   "source": [
    "Una de las principales limitaciones del algoritmo de agrupamiento de k-means es su tendencia a buscar clusters de forma globular. Por lo tanto, no funciona cuando se aplica a datasets con grupos de formas arbitrarias o cuando los centroides del grupo se superponen entre sí. \n",
    "\n",
    "La agrupación espectral puede superar esta limitación explotando las propiedades del gráfico de similitud para superar dichas limitaciones. "
   ]
  },
  {
   "cell_type": "code",
   "execution_count": null,
   "id": "6ab6037e-600e-479d-81b5-5d81f9ea8a26",
   "metadata": {},
   "outputs": [],
   "source": [
    "# librarys\n",
    "# libray\n",
    "import pandas as pd\n",
    "import numpy as np\n",
    "from sklearn import cluster\n",
    "import matplotlib.pyplot as plt\n",
    "%matplotlib inline\n",
    "#\n",
    "import warnings\n",
    "warnings.filterwarnings(\"ignore\")"
   ]
  },
  {
   "cell_type": "code",
   "execution_count": null,
   "id": "ee3b17cf-9a35-4879-bc17-a1a7e1e3b057",
   "metadata": {},
   "outputs": [],
   "source": [
    "# datos bi-dimensionales\n",
    "data1 = pd.read_csv('data/2d_data.txt', delimiter=' ', names=['x','y'])\n",
    "data2 = pd.read_csv('data/elliptical.txt', delimiter=' ', names=['x','y'])"
   ]
  },
  {
   "cell_type": "code",
   "execution_count": null,
   "id": "f0fc4a91-7221-462b-9648-faa991198d59",
   "metadata": {},
   "outputs": [],
   "source": [
    "# visualizar los datos\n",
    "data1.head()"
   ]
  },
  {
   "cell_type": "code",
   "execution_count": null,
   "id": "b8a992b5-2fac-4eb9-89c1-5ad003ad4bf0",
   "metadata": {},
   "outputs": [],
   "source": [
    "# visulizar los datos\n",
    "data2.head()"
   ]
  },
  {
   "cell_type": "code",
   "execution_count": null,
   "id": "1ff11811-eb5e-465a-b614-898fa284aa01",
   "metadata": {},
   "outputs": [],
   "source": [
    "# Visualización gráfica de los datos\n",
    "fig, (ax1,ax2) = plt.subplots(nrows=1, ncols=2, figsize=(12,5))\n",
    "data1.plot.scatter(x='x',y='y',ax=ax1, color='blue')\n",
    "ax1.set_title('datos 2D');\n",
    "data2.plot.scatter(x='x',y='y',ax=ax2, color='green')\n",
    "ax2.set_title('Datos elipticos');"
   ]
  },
  {
   "cell_type": "markdown",
   "id": "c5b3f52c-7a77-4174-a6a9-2aee1d0caa29",
   "metadata": {},
   "source": [
    ">## Aplicacion de k-means a los datasets (con k=2)"
   ]
  },
  {
   "cell_type": "code",
   "execution_count": null,
   "id": "abb84aff-5350-482c-ab47-5d70010391d9",
   "metadata": {},
   "outputs": [],
   "source": [
    "# Aplicacion de k-means a los datasets (con k=2)\n",
    "#dataset 1\n",
    "k_means = cluster.KMeans(n_clusters=2, max_iter=50, random_state=1)\n",
    "k_means.fit(data1)\n",
    "labels1 = pd.DataFrame(k_means.labels_,columns=['Cluster ID'])\n",
    "result1 = pd.concat((data1,labels1), axis=1)\n",
    "#\n",
    "#dataset 2\n",
    "k_means2 = cluster.KMeans(n_clusters=2, max_iter=50, random_state=1)\n",
    "k_means2.fit(data2)\n",
    "labels2 = pd.DataFrame(k_means2.labels_,columns=['Cluster ID'])\n",
    "result2 = pd.concat((data2,labels2), axis=1)\n",
    "#\n",
    "# grafico dataset1\n",
    "fig, (ax1,ax2) = plt.subplots(nrows=1, ncols=2, figsize=(12,5))\n",
    "result1.plot.scatter(x='x',y='y',c='Cluster ID',colormap='viridis',ax=ax1)\n",
    "ax1.set_title('Agrupamiento K-means (k=2)');\n",
    "#\n",
    "# grafico dataset 2\n",
    "result2.plot.scatter(x='x',y='y',c='Cluster ID',colormap='viridis',ax=ax2)\n",
    "ax2.set_title('Agrupamiento K-means (k=2)');"
   ]
  },
  {
   "cell_type": "markdown",
   "id": "5085ad93-fefe-4eb2-ba22-8f3d1b9dcb09",
   "metadata": {},
   "source": [
    "Los gráficos muestran el bajo rendimiento de la agrupación de k-means. A continuación, aplicamos agrupamiento espectral a datasets.\n",
    "\n",
    "La **agrupación espectral** convierte los datos en un gráfico de similitud y aplica el algoritmo de partición del gráfico de corte normalizado para generar los grupos.\n",
    "\n",
    "En el siguiente ejemplo, se usa la función de base radial gaussiana como nuestra medida de afinidad (similitud).\n",
    "\n",
    "Los usuarios deben **ajustar** el valor del parámetro del kernel (gamma) para obtener los grupos apropiados para el conjunto de datos determinado."
   ]
  },
  {
   "cell_type": "code",
   "execution_count": null,
   "id": "2df2b2f6-0bdc-4ec2-a6d1-3e7866418cc2",
   "metadata": {},
   "outputs": [],
   "source": [
    "# spectral clustering para data 1\n",
    "# data 1, gamma = 5000\n",
    "spectral = cluster.SpectralClustering(n_clusters=2,random_state=1,affinity='rbf',gamma=5000)\n",
    "spectral.fit(data1)\n",
    "labels1 = pd.DataFrame(spectral.labels_,columns=['Cluster ID'])\n",
    "result1 = pd.concat((data1,labels1), axis=1)\n",
    "\n",
    "# data 2, gamma = 100\n",
    "spectral2 = cluster.SpectralClustering(n_clusters=2,random_state=1,affinity='rbf',gamma=100)\n",
    "spectral2.fit(data2)\n",
    "labels2 = pd.DataFrame(spectral2.labels_,columns=['Cluster ID'])\n",
    "result2 = pd.concat((data2,labels2), axis=1)\n",
    "\n",
    "# graficos data 1\n",
    "fig, (ax1,ax2) = plt.subplots(nrows=1, ncols=2, figsize=(12,5))\n",
    "result1.plot.scatter(x='x',y='y',c='Cluster ID',colormap='jet',ax=ax1)\n",
    "ax1.set_title('Agrupación espectral');\n",
    "\n",
    "# graficos data 2\n",
    "result2.plot.scatter(x='x',y='y',c='Cluster ID',colormap='jet',ax=ax2)\n",
    "ax2.set_title('Agrupación espectral');"
   ]
  },
  {
   "cell_type": "markdown",
   "id": "0a835066-73df-40c8-9b58-7f95ef929bed",
   "metadata": {},
   "source": [
    "Los gráficos anteriores muestran el bajo rendimiento de la agrupación de k-means. \n",
    "Aplicación del agrupamiento espectral a los datasets.\n",
    "La agrupación espectral convierte los datos en un gráfico de similitud y aplica el algoritmo de partición del gráfico de corte normalizado para generar los grupos. \n",
    "\n",
    "En el ejemplo se usa la función de base radial gaussiana como nuestra medida de afinidad (similitud). \n",
    "\n",
    "Los usuarios deben ajustar el valor del parámetro del kernel (**gamma**) para obtener los grupos apropiados para el dataset determinado."
   ]
  },
  {
   "cell_type": "code",
   "execution_count": null,
   "id": "0ac5692f-1e43-44df-9138-01c0d4b0783a",
   "metadata": {},
   "outputs": [],
   "source": [
    "# spectral clustering\n",
    "# data 1, gamma=5000\n",
    "spectral = cluster.SpectralClustering(n_clusters=2,random_state=1,affinity='rbf',gamma=5000)\n",
    "spectral.fit(data1)\n",
    "labels1 = pd.DataFrame(spectral.labels_,columns=['Cluster ID'])\n",
    "result1 = pd.concat((data1,labels1), axis=1)\n",
    "# data2 , gamma = 100\n",
    "spectral2 = cluster.SpectralClustering(n_clusters=2,random_state=1,affinity='rbf',gamma=200)\n",
    "spectral2.fit(data2)\n",
    "labels2 = pd.DataFrame(spectral2.labels_,columns=['Cluster ID'])\n",
    "result2 = pd.concat((data2,labels2), axis=1)\n",
    "#\n",
    "fig, (ax1,ax2) = plt.subplots(nrows=1, ncols=2, figsize=(12,5))\n",
    "result1.plot.scatter(x='x',y='y',c='Cluster ID',colormap='jet',ax=ax1)\n",
    "ax1.set_title('Agrupación espectral');\n",
    "#\n",
    "result2.plot.scatter(x='x',y='y',c='Cluster ID',colormap='jet',ax=ax2)\n",
    "ax2.set_title('Agrupacion espectral');"
   ]
  },
  {
   "cell_type": "markdown",
   "id": "06449359-9b3c-48fb-9fad-28c64ecebf7f",
   "metadata": {},
   "source": [
    "---\n",
    "<center><b>&copy;Jorge Zavaleta, 2024</b></center>"
   ]
  }
 ],
 "metadata": {
  "kernelspec": {
   "display_name": "Python 3 (ipykernel)",
   "language": "python",
   "name": "python3"
  },
  "language_info": {
   "codemirror_mode": {
    "name": "ipython",
    "version": 3
   },
   "file_extension": ".py",
   "mimetype": "text/x-python",
   "name": "python",
   "nbconvert_exporter": "python",
   "pygments_lexer": "ipython3",
   "version": "3.11.7"
  }
 },
 "nbformat": 4,
 "nbformat_minor": 5
}
