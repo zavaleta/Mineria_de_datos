{
 "cells": [
  {
   "cell_type": "markdown",
   "id": "06125972-726c-4a37-8b26-6d6e228cfe01",
   "metadata": {},
   "source": [
    "![logo](images/untumbes.PNG)"
   ]
  },
  {
   "cell_type": "markdown",
   "id": "efb54904-71ff-464e-8185-d7a67dd398e6",
   "metadata": {},
   "source": [
    "<center><b>Prof. Dr. Jorge Zavaleta - zavaleta.jorge@gmail.com</b></center>"
   ]
  },
  {
   "cell_type": "markdown",
   "id": "4806011d-6353-48f4-927c-1354122258f3",
   "metadata": {},
   "source": [
    "# Algoritmo Apriori"
   ]
  },
  {
   "cell_type": "code",
   "execution_count": null,
   "id": "8264852f-c681-4854-899f-e6d9d61021a6",
   "metadata": {},
   "outputs": [],
   "source": [
    "#librarys\n",
    "import pandas as pd\n",
    "import numpy as np\n",
    "import random\n",
    "#\n",
    "import heapq\n",
    "from mlxtend.frequent_patterns import apriori\n",
    "from mlxtend.frequent_patterns import association_rules\n",
    "from mlxtend.preprocessing import TransactionEncoder\n",
    "#\n",
    "from surprise import Dataset, Reader, KNNBasic\n",
    "# ml\n",
    "from surprise.model_selection import train_test_split\n",
    "\n",
    "# graphics\n",
    "import matplotlib.pylab as plt\n",
    "%matplotlib inline\n",
    "#\n",
    "import warnings\n",
    "warnings.filterwarnings(\"ignore\")"
   ]
  },
  {
   "cell_type": "code",
   "execution_count": null,
   "id": "1089d8ec-1680-4884-84e6-8829e23f3950",
   "metadata": {},
   "outputs": [],
   "source": [
    "# Passo 1: Gerar um conjunto de dados aleatório\n",
    "data = [['Leite', 'Cebola', 'Noz-Moscada', 'Feijão', 'Ovos', 'Iogurte'],\n",
    "        ['Dill', 'Cebola', 'Noz-Moscada', 'Feijão', 'Ovos', 'Iogurte'],\n",
    "        ['Leite', 'Maçã', 'Feijão', 'Ovos'],\n",
    "        ['Leite', 'Milho', 'Noz-Moscada', 'Feijão', 'Iogurte'],\n",
    "        ['Milho', 'Cebola', 'Cebola', 'Feijão', 'Sorvete', 'Ovos']]\n",
    "data"
   ]
  },
  {
   "cell_type": "code",
   "execution_count": null,
   "id": "b1cab4fd-a2fe-480a-9ccd-bd3e17bfaed2",
   "metadata": {},
   "outputs": [],
   "source": [
    "# Passo 2: Pré-processamento dos dados\n",
    "te = TransactionEncoder()\n",
    "te_ary = te.fit(data).transform(data)\n",
    "df = pd.DataFrame(te_ary, columns=te.columns_)\n",
    "df.head()"
   ]
  },
  {
   "cell_type": "code",
   "execution_count": null,
   "id": "e879f326-0b9d-4d19-b32e-d189de6aa51d",
   "metadata": {},
   "outputs": [],
   "source": [
    "# Passo 3: Aplicar o algoritmo Apriori\n",
    "frequent_itemsets = apriori(df, min_support=0.6, use_colnames=True)\n",
    "frequent_itemsets"
   ]
  },
  {
   "cell_type": "code",
   "execution_count": null,
   "id": "0ee0cf25-874c-4874-9aa7-e331efa3747f",
   "metadata": {},
   "outputs": [],
   "source": [
    "# Collecting the inferred rules in a dataframe \n",
    "verduras_rules = association_rules(frequent_itemsets, metric =\"confidence\", min_threshold = 0.5) \n",
    "verduras_rules = verduras_rules.sort_values(['confidence', 'lift'], ascending =[False, False]) \n",
    "verduras_rules.head(10) "
   ]
  },
  {
   "cell_type": "markdown",
   "id": "c92a058b-ad5e-4408-9942-245142f1e550",
   "metadata": {},
   "source": [
    ">## Análisis?"
   ]
  },
  {
   "cell_type": "code",
   "execution_count": null,
   "id": "35c43596-1c2d-496d-8179-dcd63b490156",
   "metadata": {},
   "outputs": [],
   "source": []
  },
  {
   "cell_type": "markdown",
   "id": "faf75f66-3c93-4613-abf3-465acd4c3a20",
   "metadata": {},
   "source": [
    ">## Ventas online - Ejemplo 2"
   ]
  },
  {
   "cell_type": "code",
   "execution_count": null,
   "id": "51fffc28-f57f-4496-8b6b-73cfc42aaa14",
   "metadata": {},
   "outputs": [],
   "source": [
    "# Loading the Data \n",
    "data = pd.read_excel('data/Online_Retail.xlsx') \n",
    "data.head() "
   ]
  },
  {
   "cell_type": "code",
   "execution_count": null,
   "id": "f783c4ec-0c00-4dd7-b3a5-6534db9886fb",
   "metadata": {},
   "outputs": [],
   "source": [
    "#dimensions\n",
    "data.shape"
   ]
  },
  {
   "cell_type": "code",
   "execution_count": null,
   "id": "395fbff7-b769-4162-8265-b9bdde631181",
   "metadata": {},
   "outputs": [],
   "source": [
    "# Exploring the columns of the data \n",
    "data.columns "
   ]
  },
  {
   "cell_type": "code",
   "execution_count": null,
   "id": "bd1e6b9f-aaf4-4697-b196-fb4c41448b84",
   "metadata": {},
   "outputs": [],
   "source": [
    "# Exploring the different regions of transactions \n",
    "data.Country.unique() "
   ]
  },
  {
   "cell_type": "markdown",
   "id": "2535443d-9561-48a3-bcd3-69840b7cdf0c",
   "metadata": {},
   "source": [
    ">### Limpieza de datos"
   ]
  },
  {
   "cell_type": "code",
   "execution_count": null,
   "id": "711fa460-133d-4d23-865c-fd0bbcb5b90f",
   "metadata": {},
   "outputs": [],
   "source": [
    "# Stripping extra spaces in the description \n",
    "data['Description'] = data['Description'].str.strip() \n",
    "data.shape"
   ]
  },
  {
   "cell_type": "code",
   "execution_count": null,
   "id": "0a75f9c0-6629-43d5-b94b-ceac398b088d",
   "metadata": {},
   "outputs": [],
   "source": [
    "# Dropping the rows without any invoice number \n",
    "data.dropna(axis = 0, subset =['InvoiceNo'], inplace = True) \n",
    "data['InvoiceNo'] = data['InvoiceNo'].astype('str') \n",
    "data.shape"
   ]
  },
  {
   "cell_type": "code",
   "execution_count": null,
   "id": "5d196d58-d384-4c29-bea4-75d21864d51f",
   "metadata": {},
   "outputs": [],
   "source": [
    "# Dropping all transactions which were done on credit \n",
    "data = data[~data['InvoiceNo'].str.contains('C')] \n",
    "data.shape"
   ]
  },
  {
   "cell_type": "markdown",
   "id": "e8d21677-bce8-4df5-8898-7d55c0ddf969",
   "metadata": {},
   "source": [
    ">### Dividir los datos según la región de la transacción"
   ]
  },
  {
   "cell_type": "code",
   "execution_count": null,
   "id": "1bb8df7f-37bb-4b15-97ef-883c2129a0cf",
   "metadata": {},
   "outputs": [],
   "source": [
    "# Transactions done in France \n",
    "cesta_France = (data[data['Country'] ==\"France\"] \n",
    "          .groupby(['InvoiceNo', 'Description'])['Quantity'] \n",
    "          .sum().unstack().reset_index().fillna(0) \n",
    "          .set_index('InvoiceNo')) \n",
    "cesta_France.head()"
   ]
  },
  {
   "cell_type": "code",
   "execution_count": null,
   "id": "0715f044-b597-4e47-9fe3-3429f3a674f9",
   "metadata": {},
   "outputs": [],
   "source": [
    "# Transactions done in the United Kingdom \n",
    "cesta_UK = (data[data['Country'] ==\"United Kingdom\"] \n",
    "          .groupby(['InvoiceNo', 'Description'])['Quantity'] \n",
    "          .sum().unstack().reset_index().fillna(0) \n",
    "          .set_index('InvoiceNo')) "
   ]
  },
  {
   "cell_type": "code",
   "execution_count": null,
   "id": "f74606d1-b0ee-4e0a-9f32-4c59c7e39b5d",
   "metadata": {},
   "outputs": [],
   "source": [
    "# Transactions done in Portugal \n",
    "cesta_Por = (data[data['Country'] ==\"Portugal\"] \n",
    "          .groupby(['InvoiceNo', 'Description'])['Quantity'] \n",
    "          .sum().unstack().reset_index().fillna(0) \n",
    "          .set_index('InvoiceNo')) "
   ]
  },
  {
   "cell_type": "code",
   "execution_count": null,
   "id": "fb8e518d-3e77-4955-876d-e28ebe97e219",
   "metadata": {},
   "outputs": [],
   "source": [
    "cesta_Sweden = (data[data['Country'] ==\"Sweden\"] \n",
    "          .groupby(['InvoiceNo', 'Description'])['Quantity'] \n",
    "          .sum().unstack().reset_index().fillna(0) \n",
    "          .set_index('InvoiceNo')) "
   ]
  },
  {
   "cell_type": "markdown",
   "id": "20c32520-de56-4734-8926-05f2faacd845",
   "metadata": {},
   "source": [
    ">### Codificación HOT de los datos"
   ]
  },
  {
   "cell_type": "code",
   "execution_count": null,
   "id": "527b6bf6-c2b5-4ccc-b7a5-dd69e0e7db1d",
   "metadata": {},
   "outputs": [],
   "source": [
    "# Defining the hot encoding function to make the data suitable  \n",
    "# for the concerned libraries \n",
    "def hot_encode(x): \n",
    "    if(x<= 0): \n",
    "        return 0\n",
    "    if(x>= 1): \n",
    "        return 1"
   ]
  },
  {
   "cell_type": "code",
   "execution_count": null,
   "id": "77cb1e13-7031-4ca9-83e7-4df2de09a377",
   "metadata": {},
   "outputs": [],
   "source": [
    "# Encoding the datasets \n",
    "cesta_encoded = cesta_France.applymap(hot_encode) \n",
    "cesta_France = cesta_encoded \n",
    "cesta_France.head()"
   ]
  },
  {
   "cell_type": "code",
   "execution_count": null,
   "id": "07b0f948-2245-46d2-9d03-0e2993c4c580",
   "metadata": {},
   "outputs": [],
   "source": [
    "cesta_encoded = cesta_UK.applymap(hot_encode) \n",
    "cesta_UK = cesta_encoded "
   ]
  },
  {
   "cell_type": "code",
   "execution_count": null,
   "id": "2263772a-6af6-4b9c-9adf-0ab7d61499ba",
   "metadata": {},
   "outputs": [],
   "source": [
    "cesta_encoded = cesta_Por.applymap(hot_encode) \n",
    "cesta_Por = cesta_encoded "
   ]
  },
  {
   "cell_type": "code",
   "execution_count": null,
   "id": "eb032e27-90d1-4c2d-9ce9-18c5774712b7",
   "metadata": {},
   "outputs": [],
   "source": [
    "cesta_encoded = cesta_Sweden.applymap(hot_encode) \n",
    "cesta_Sweden = cesta_encoded "
   ]
  },
  {
   "cell_type": "markdown",
   "id": "64125ea1-60e6-4bff-8ce1-877f6b976110",
   "metadata": {},
   "source": [
    ">### Construyendo los modelos y analizando los resultados\n",
    ">#### Francia"
   ]
  },
  {
   "cell_type": "code",
   "execution_count": null,
   "id": "e8ccb26b-0c40-4897-a0c1-84631481e7c9",
   "metadata": {},
   "outputs": [],
   "source": [
    "# Building the model - freciencia de items\n",
    "frq_items_france = apriori(cesta_France, min_support = 0.05, use_colnames = True) "
   ]
  },
  {
   "cell_type": "code",
   "execution_count": null,
   "id": "9e073875-8b23-4e50-a048-571fd75c1e27",
   "metadata": {},
   "outputs": [],
   "source": [
    "# Collecting the inferred rules in a dataframe \n",
    "rules_france = association_rules(frq_items_france, metric =\"lift\", min_threshold = 1) \n",
    "rules_france = rules_france.sort_values(['confidence', 'lift'], ascending =[False, False]) \n",
    "rules_france.head()"
   ]
  },
  {
   "cell_type": "markdown",
   "id": "8e582607-f760-41b3-9ce4-dcad2093caf7",
   "metadata": {},
   "source": [
    ">#### Reino Unido (United Kingdom)"
   ]
  },
  {
   "cell_type": "code",
   "execution_count": null,
   "id": "196a07e5-ec71-4545-968e-3da98e3b53b6",
   "metadata": {},
   "outputs": [],
   "source": [
    "## Building the model\n",
    "frq_items_ru = apriori(cesta_UK, min_support = 0.01, use_colnames = True) \n",
    "# Collecting the inferred rules in a dataframe \n",
    "rules_ru = association_rules(frq_items_ru, metric =\"lift\", min_threshold = 1) \n",
    "rules_ru = rules_ru.sort_values(['confidence', 'lift'], ascending =[False, False]) \n",
    "rules_ru.head() "
   ]
  },
  {
   "cell_type": "markdown",
   "id": "46e62d42-4b99-4d10-a895-58873ebebc99",
   "metadata": {},
   "source": [
    ">#### Portugal"
   ]
  },
  {
   "cell_type": "code",
   "execution_count": null,
   "id": "1a7e5183-78d3-4917-b15f-354783fb62f1",
   "metadata": {},
   "outputs": [],
   "source": [
    "## Building the model\n",
    "frq_items_pt = apriori(cesta_Por, min_support = 0.05, use_colnames = True) \n",
    "# Collecting the inferred rules in a dataframe \n",
    "rules_pt = association_rules(frq_items_pt, metric =\"lift\", min_threshold = 1) \n",
    "rules_pt = rules_pt.sort_values(['confidence', 'lift'], ascending =[False, False]) \n",
    "rules_pt.head() "
   ]
  },
  {
   "cell_type": "markdown",
   "id": "69a9fc23-bd12-4feb-bd5b-97b93e2852ac",
   "metadata": {},
   "source": [
    ">### Suecia"
   ]
  },
  {
   "cell_type": "code",
   "execution_count": null,
   "id": "b4bf9ed1-cb9c-401f-805b-2b0e448afbb9",
   "metadata": {},
   "outputs": [],
   "source": [
    "## Building the model\n",
    "frq_items_su = apriori(cesta_Sweden, min_support = 0.05, use_colnames = True) \n",
    "# Collecting the inferred rules in a dataframe \n",
    "rules_su = association_rules(frq_items_su, metric =\"lift\", min_threshold = 1) \n",
    "rules_su = rules_su.sort_values(['confidence', 'lift'], ascending =[False, False]) \n",
    "rules_su.head() "
   ]
  },
  {
   "cell_type": "markdown",
   "id": "f12f05f8-c4b3-4408-96e7-700527e1fa84",
   "metadata": {},
   "source": [
    ">## Análisis?"
   ]
  },
  {
   "cell_type": "markdown",
   "id": "1c9df17d-a23e-4b30-8404-dc0596d12b16",
   "metadata": {},
   "source": []
  },
  {
   "cell_type": "markdown",
   "id": "0b319a32-b5be-458c-8719-0f8058820584",
   "metadata": {},
   "source": [
    ">## Minorista - Ejemplo 3"
   ]
  },
  {
   "cell_type": "code",
   "execution_count": null,
   "id": "1f8081a2-4c2f-4581-8bb3-71191d0abc49",
   "metadata": {},
   "outputs": [],
   "source": [
    "# Load and preprocess data set\n",
    "mino_df = pd.read_csv('data/retail_dataset.csv', sep=',')\n",
    "mino_df.head(10)"
   ]
  },
  {
   "cell_type": "code",
   "execution_count": null,
   "id": "e7c9b808-773c-403e-858c-e5ba0b0ecb09",
   "metadata": {},
   "outputs": [],
   "source": [
    "# data shape\n",
    "mino_df.shape"
   ]
  },
  {
   "cell_type": "markdown",
   "id": "15755678-ffb1-40f8-b932-dd85dfd928ba",
   "metadata": {},
   "source": [
    ">## Limpieza de datos"
   ]
  },
  {
   "cell_type": "code",
   "execution_count": null,
   "id": "460cd883-4372-403f-b782-647c9d81e45a",
   "metadata": {},
   "outputs": [],
   "source": [
    "#tratando valores NaN\n",
    "mino_df.replace(np.nan,0,inplace=True)\n",
    "mino_df.head(10)"
   ]
  },
  {
   "cell_type": "code",
   "execution_count": null,
   "id": "c9a3936c-c59e-44cc-b440-e48865d278da",
   "metadata": {},
   "outputs": [],
   "source": [
    "# crear funcion lambda para mover los valosres x!=0 para uma lista\n",
    "def removerTodosZerosLista(lista):\n",
    "    return list(filter(lambda x: x!=0, lista))"
   ]
  },
  {
   "cell_type": "code",
   "execution_count": null,
   "id": "d2652fff-887d-47b3-9893-d16572aa4e8c",
   "metadata": {},
   "outputs": [],
   "source": [
    "#transformando en lista\n",
    "lista_todas_transacciones = []\n",
    "for index, row in mino_df.iterrows():\n",
    "    lista_de_trans = row.values.tolist()\n",
    "    lista_de_trans = removerTodosZerosLista(lista_de_trans)\n",
    "    # adiciona a la lista general\n",
    "    lista_todas_transacciones.append(lista_de_trans)\n",
    "    \n",
    "# visualiza lista\n",
    "lista_todas_transacciones[0:10]"
   ]
  },
  {
   "cell_type": "markdown",
   "id": "0ca3e4db-a63a-4c2e-8162-1cb3c8fb4090",
   "metadata": {},
   "source": [
    ">## Procesamiento de datos"
   ]
  },
  {
   "cell_type": "markdown",
   "id": "7e2d26d0-b079-4fd1-b6bf-cbc4ba4488ff",
   "metadata": {},
   "source": [
    "En el análisis de asociación, el dataset de datos debe ser 1 y 0 o un tipo de estructura de datos booleano como Verdadero/Falso."
   ]
  },
  {
   "cell_type": "code",
   "execution_count": null,
   "id": "b3883fd8-ad1b-48f9-86e4-38d65a41382e",
   "metadata": {},
   "outputs": [],
   "source": [
    "# One Hot Encoding process has been done.\n",
    "temp = TransactionEncoder()\n",
    "temp_df = temp.fit(lista_todas_transacciones).transform(lista_todas_transacciones)\n",
    "minorista_df = pd.DataFrame(temp_df,columns=temp.columns_)\n",
    "minorista_df.head()"
   ]
  },
  {
   "cell_type": "markdown",
   "id": "f93b01fc-d328-45fa-ae14-7305d79aa471",
   "metadata": {},
   "source": [
    ">## Algoritmo apriori"
   ]
  },
  {
   "cell_type": "markdown",
   "id": "ad35be1f-9018-429c-87c5-858c6673d8a1",
   "metadata": {},
   "source": [
    "El dataset de datos ahora es adecuado para el análisis de asociaciones. El siguiente paso será calcular e interpretar los valores de soporte y confianza."
   ]
  },
  {
   "cell_type": "code",
   "execution_count": null,
   "id": "cc21150f-b621-410f-ada6-3398b625c1d9",
   "metadata": {},
   "outputs": [],
   "source": [
    "# We set our support value as 20%\n",
    "mino_items = apriori(minorista_df, min_support=0.20, use_colnames=True, verbose = 1)\n",
    "mino_items.sort_values(by = \"support\", ascending = False)\n",
    "mino_items[['itemsets','support']][0:15]"
   ]
  },
  {
   "cell_type": "code",
   "execution_count": null,
   "id": "d338fe6b-23ab-4b3a-a175-3d9843f605c0",
   "metadata": {},
   "outputs": [],
   "source": [
    "# Collecting the inferred rules in a dataframe \n",
    "mino_rules = association_rules(mino_items, metric =\"confidence\", min_threshold = 0.5) \n",
    "mino_rules = mino_rules.sort_values(['confidence', 'lift'], ascending =[False, False]) \n",
    "mino_rules.head(10) "
   ]
  },
  {
   "cell_type": "markdown",
   "id": "ba51467f-6ec4-43af-8512-96d75d12572c",
   "metadata": {},
   "source": [
    ">### Análisis\n",
    "\n",
    "> Podemos interpretar el dataset resultante de la siguiente manera:\n",
    "> \n",
    "> Valor de soporte -> muestra que quien compra Leche y Carne compra Queso tiene un soporte de 0.2\n",
    "> \n",
    "> Valor de Confianza -> muestra que el 83% de los clientes que compran Leche y Carne también compran Queso.\n",
    "> \n",
    "> Valor de elevación -> muestra que las ventas de (Queso) aumentan en 1.65 para las compras con Leche y Carne."
   ]
  },
  {
   "cell_type": "markdown",
   "id": "891e15d0-7b86-4fc1-b08e-a11eaa04d012",
   "metadata": {},
   "source": [
    "---\n",
    "<center><b>&copy;Jorge Zavaleta, 2024</b></center>"
   ]
  }
 ],
 "metadata": {
  "kernelspec": {
   "display_name": "Python 3 (ipykernel)",
   "language": "python",
   "name": "python3"
  },
  "language_info": {
   "codemirror_mode": {
    "name": "ipython",
    "version": 3
   },
   "file_extension": ".py",
   "mimetype": "text/x-python",
   "name": "python",
   "nbconvert_exporter": "python",
   "pygments_lexer": "ipython3",
   "version": "3.11.7"
  }
 },
 "nbformat": 4,
 "nbformat_minor": 5
}
