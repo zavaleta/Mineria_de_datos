{
 "cells": [
  {
   "cell_type": "markdown",
   "metadata": {},
   "source": [
    "![logo](images/untumbes.PNG)"
   ]
  },
  {
   "cell_type": "markdown",
   "metadata": {},
   "source": [
    "<center><b>Prof. Dr. Jorge Zavaleta - zavaleta.jorge@gmail.com</b></center>"
   ]
  },
  {
   "cell_type": "markdown",
   "metadata": {},
   "source": [
    "# Análisis de Agrupamientos (clustering)"
   ]
  },
  {
   "cell_type": "markdown",
   "metadata": {},
   "source": [
    "Los ejemplos en Python presentados, forman parte de los Capítulos 7 y 8 del libro:\n",
    "<b>Tan, Pang-Ning; Steinbach, Micahel; Karpatne, Anuj; Kumar, Vipin. \"Introducción a la minería de datos\". 2ed, Pearson 2019. ISBN 9780133128901</b> para comprender algunos de los conceptos estudiados.\n",
    "\n",
    "El análisis de agrupamientos busca dividir los datos de entrada en grupos de instancias estrechamente relacionadas de modo que las instancias que pertenecen al mismo grupo sean más similares entre sí que las instancias que pertenecen a otros grupos. "
   ]
  },
  {
   "cell_type": "code",
   "execution_count": null,
   "metadata": {},
   "outputs": [],
   "source": [
    "# libray\n",
    "import pandas as pd\n",
    "import numpy as np\n",
    "from sklearn import cluster\n",
    "import matplotlib.pyplot as plt\n",
    "%matplotlib inline\n",
    "#\n",
    "import warnings\n",
    "warnings.filterwarnings(\"ignore\")"
   ]
  },
  {
   "cell_type": "markdown",
   "metadata": {},
   "source": [
    ">## Agrupamientos K-mans"
   ]
  },
  {
   "cell_type": "markdown",
   "metadata": {},
   "source": [
    "El algoritmo de agrupamiento de k-means representa cada grupo por su centroide de grupo correspondiente. El algoritmo dividirirá los datos de entrada en *k* grupos separados aplicando iterativamente los dos pasos siguientes:\n",
    "1. Forme *k* grupos asignando cada instancia a su centroide más cercano.\n",
    "2. Vuelva a calcular el centroide de cada grupo."
   ]
  },
  {
   "cell_type": "markdown",
   "metadata": {},
   "source": [
    ">## Clasificación de peliculas - Ejemplo 1"
   ]
  },
  {
   "cell_type": "code",
   "execution_count": null,
   "metadata": {},
   "outputs": [],
   "source": [
    "# calsificacion de peliculas\n",
    "ratings = [['Juan',5,5,2,1,1],['Maria',4,5,3,2,2],['Roberto',4,4,4,3,4],['Elisa',2,2,4,5,1],['Rober',1,2,3,4,5],['Harry',2,1,5,5,2],\n",
    "          ['Jorge',3,5,4,1,5]]\n",
    "titles = ['usuario','Tiburon','Star Wars','Exorcista','Omen','Oeste']\n",
    "peliculas = pd.DataFrame(ratings,columns=titles)\n",
    "peliculas"
   ]
  },
  {
   "cell_type": "markdown",
   "metadata": {},
   "source": [
    "**Análisis**:\n",
    "A los primeros 3 usuarios (Juan, Maria y Roberto) les gusta las películas de acción (Tiburón y Star Wars), mientras que a los 3 últimos usuarios (Rober, Harry y Jorge) les gusta las películas de terror (Exorcista y Omen). \n",
    "\n",
    "O objetivo del ejercicio es aplicar la agrupación de k-means a los usuários para identificar grupos (cluster) de usuarios con preferencias de películas similares."
   ]
  },
  {
   "cell_type": "markdown",
   "metadata": {},
   "source": [
    ">## Clasificación de peliculas - Ejemplo 2"
   ]
  },
  {
   "cell_type": "markdown",
   "metadata": {},
   "source": [
    "Ejemplo de cómo aplicar la agrupación de k-means (con k=2) en los datos de clasificación de películas. Primero debemos eliminar la columna \"usuario\" antes de aplicar el algoritmo de agrupación. La asignación de clúster para cada usuario se muestra como un dataframe de datos."
   ]
  },
  {
   "cell_type": "code",
   "execution_count": null,
   "metadata": {},
   "outputs": [],
   "source": [
    "# cluster\n",
    "data = peliculas.drop('usuario',axis=1)\n",
    "k_means = cluster.KMeans(n_clusters=2, max_iter=50, random_state=1)\n",
    "k_means.fit(data) \n",
    "labels = k_means.labels_\n",
    "Ex2 = pd.DataFrame(labels, index=peliculas.usuario, columns=['Cluster ID'])\n",
    "Ex2"
   ]
  },
  {
   "cell_type": "markdown",
   "metadata": {},
   "source": [
    "The k-means clustering algorithm assigns the first three users to one cluster and the last three users to the second cluster. The results are consistent with our expectation. We can also display the centroid for each of the two clusters."
   ]
  },
  {
   "cell_type": "markdown",
   "metadata": {},
   "source": [
    ">## Centroides"
   ]
  },
  {
   "cell_type": "markdown",
   "metadata": {},
   "source": [
    "El algoritmo de agrupamiento k-means asigna los primeros tres usuarios a un grupo y los últimos tres usuarios al segundo grupo. Los resultados son consistentes con nuestras expectativas. También podemos mostrar el centroide de cada uno de los dos grupos."
   ]
  },
  {
   "cell_type": "code",
   "execution_count": null,
   "metadata": {},
   "outputs": [],
   "source": [
    "centroides = k_means.cluster_centers_\n",
    "data_cent = pd.DataFrame(centroides,columns=data.columns)\n",
    "data_cent"
   ]
  },
  {
   "cell_type": "markdown",
   "metadata": {},
   "source": [
    "**Análisis**: El grupo 0 tiene calificaciones más altas para las películas de acción, mientras que el grupo 1 tiene calificaciones más altas para las películas de terror. Los centroides del clúster se pueden aplicar a otros usuarios para determinar sus asignaciones de cluster."
   ]
  },
  {
   "cell_type": "markdown",
   "metadata": {},
   "source": [
    ">## Determinar número de clusters"
   ]
  },
  {
   "cell_type": "code",
   "execution_count": null,
   "metadata": {},
   "outputs": [],
   "source": [
    "#numero de clusters\n",
    "testData = np.array([[4,5,1,2,1],[3,2,4,4,2],[2,3,4,1,5],[3,2,3,3,3],[5,4,1,4,1],[2,3,5,3,1]])\n",
    "labels = k_means.predict(testData)\n",
    "labels = labels.reshape(-1,1)\n",
    "usernames = np.array(['paul','kim','liz','tom','bill','bob']).reshape(-1,1)\n",
    "cols = peliculas.columns.tolist()\n",
    "cols.append('Cluster ID')\n",
    "newusers = pd.DataFrame(np.concatenate((usernames, testData, labels), axis=1),columns=cols)\n",
    "newusers"
   ]
  },
  {
   "cell_type": "markdown",
   "metadata": {},
   "source": [
    ">## Determinar el número de cluster en los datos"
   ]
  },
  {
   "cell_type": "markdown",
   "metadata": {},
   "source": [
    "Para determinar la cantidad de grupos en los datos, podemos aplicar k-means con un número variable de grupos de 1 a 7 y calcular sus correspondientes errores de suma de cuadrados (SSE) como se muestra en el siguiente ejemplo. \n",
    "\n",
    "El **\"codo\"** en el gráfico de SSE frente al número de conglomerados se puede utilizar para estimar el número de conglomerados."
   ]
  },
  {
   "cell_type": "code",
   "execution_count": null,
   "metadata": {},
   "outputs": [],
   "source": [
    "# determinar el numero de cluster k=? (graficamente)\n",
    "numClusters = [1,2,3,4,5,6,7]\n",
    "SSE = []\n",
    "for k in numClusters:\n",
    "    k_means = cluster.KMeans(n_clusters=k)\n",
    "    k_means.fit(data)\n",
    "    SSE.append(k_means.inertia_)\n",
    "\n",
    "plt.plot(numClusters, SSE)\n",
    "plt.xlabel('Número de Clusters')\n",
    "plt.ylabel('SSE');"
   ]
  },
  {
   "cell_type": "markdown",
   "metadata": {},
   "source": [
    "---\n",
    "<center><b>© Jorge Zavaleta, 2024</b></center>"
   ]
  }
 ],
 "metadata": {
  "kernelspec": {
   "display_name": "Python 3 (ipykernel)",
   "language": "python",
   "name": "python3"
  },
  "language_info": {
   "codemirror_mode": {
    "name": "ipython",
    "version": 3
   },
   "file_extension": ".py",
   "mimetype": "text/x-python",
   "name": "python",
   "nbconvert_exporter": "python",
   "pygments_lexer": "ipython3",
   "version": "3.11.7"
  }
 },
 "nbformat": 4,
 "nbformat_minor": 4
}
