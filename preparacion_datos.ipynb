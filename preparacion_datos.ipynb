{
 "cells": [
  {
   "cell_type": "markdown",
   "id": "228c8855",
   "metadata": {},
   "source": [
    "![logo](images/untumbes.PNG)"
   ]
  },
  {
   "cell_type": "markdown",
   "id": "e06d9c93",
   "metadata": {},
   "source": [
    "<b><center>Prof. Dr. Jorge Zavaleta - zavaleta.jorge@gmail.com </center></b>"
   ]
  },
  {
   "attachments": {},
   "cell_type": "markdown",
   "id": "d7a6eabd",
   "metadata": {},
   "source": [
    "# Preparación de datos\n",
    "\n",
    "> La **fase de preparación de datos** cubre todas las actividades necesarias para\n",
    "construir el conjunto de datos final a partir de los datos iniciales sin procesar.\n",
    "> Es probable que las tareas de preparación de datos se realicen varias veces y no en ningún orden prescrito.\n",
    "> Las tareas incluyen selección de tablas, registros y atributos, así como\n",
    "transformación y limpieza de datos para herramientas de modelado.\n",
    "> La preparación de datos es un paso crucial en el proceso de minería de datos y, a menudo, consume más tiempo que las propias técnicas de minería."
   ]
  },
  {
   "cell_type": "markdown",
   "id": "279185bb",
   "metadata": {},
   "source": [
    "## Importación de las bibliotecas"
   ]
  },
  {
   "cell_type": "code",
   "execution_count": null,
   "id": "456334ac",
   "metadata": {},
   "outputs": [],
   "source": [
    "# librarys\n",
    "import numpy as np                          # calculo cientifico\n",
    "import pandas as pd                         # manejo de dataframes\n",
    "import matplotlib.pyplot as plt             # visualizacion grafica\n",
    "import seaborn as sns                       # visualizacion grafica"
   ]
  },
  {
   "cell_type": "markdown",
   "id": "cb915c3e",
   "metadata": {},
   "source": [
    "## Lectura del dataset"
   ]
  },
  {
   "cell_type": "code",
   "execution_count": null,
   "id": "ac2aff7f",
   "metadata": {
    "scrolled": false
   },
   "outputs": [],
   "source": [
    "# paths\n",
    "path_dataset ='data/'    # diretorio do dataset local\n",
    "# dataset read\n",
    "file_name='covid_19.csv'          # nome do dataset\n",
    "dataset1 = pd.read_csv(path_dataset+file_name,sep=';',encoding='utf-8',low_memory=False) #index_col=0  #encoding='ISO-8859-1','latin-1')     # leitura do dataset\n",
    "dataset1.head()"
   ]
  },
  {
   "cell_type": "markdown",
   "id": "c985d53b",
   "metadata": {},
   "source": [
    "## Visualizar el diccionario de datos"
   ]
  },
  {
   "cell_type": "markdown",
   "id": "b99c3813",
   "metadata": {},
   "source": [
    "[Diccionario de datos](pdf/Dicionario_dados_19_09_2022.pdf)"
   ]
  },
  {
   "cell_type": "markdown",
   "id": "25402ecf",
   "metadata": {},
   "source": [
    "## Verificar las dimensiones"
   ]
  },
  {
   "cell_type": "code",
   "execution_count": null,
   "id": "2c99bf62",
   "metadata": {},
   "outputs": [],
   "source": [
    "# dimension\n",
    "dataset1.shape"
   ]
  },
  {
   "cell_type": "markdown",
   "id": "2e3fb934",
   "metadata": {},
   "source": [
    "## Copia del dataset original"
   ]
  },
  {
   "cell_type": "code",
   "execution_count": null,
   "id": "21f6cdfb",
   "metadata": {},
   "outputs": [],
   "source": [
    "# fazendo uma copia do dataframe\n",
    "work_data = dataset1.copy()"
   ]
  },
  {
   "cell_type": "code",
   "execution_count": null,
   "id": "6d471649",
   "metadata": {},
   "outputs": [],
   "source": [
    "# work data\n",
    "work_data.head()"
   ]
  },
  {
   "cell_type": "markdown",
   "id": "9a7c5895",
   "metadata": {},
   "source": [
    "## Visualizar Datos faltantes"
   ]
  },
  {
   "cell_type": "code",
   "execution_count": null,
   "id": "12e35092",
   "metadata": {},
   "outputs": [],
   "source": [
    "# visualizando dados faltantes, os 30 maiores\n",
    "md = work_data.isna().sum().sort_values(ascending=False)[:30]\n",
    "md"
   ]
  },
  {
   "cell_type": "markdown",
   "id": "f6db7d99",
   "metadata": {},
   "source": [
    "## Algunos gráficos"
   ]
  },
  {
   "cell_type": "code",
   "execution_count": null,
   "id": "96c748d3",
   "metadata": {
    "scrolled": false
   },
   "outputs": [],
   "source": [
    "# work data\n",
    "fig_bar = sns.displot(data = work_data, x='SG_UF_NOT',hue='SG_UF_NOT')\n",
    "plt.show(fig_bar)"
   ]
  },
  {
   "cell_type": "code",
   "execution_count": null,
   "id": "81e63c05",
   "metadata": {},
   "outputs": [],
   "source": [
    "# Tipos de testes no dataframe consultas\n",
    "work_data.FNT_IN_COV.value_counts().plot(kind='barh', color='r');"
   ]
  },
  {
   "cell_type": "markdown",
   "id": "4d6b2a46",
   "metadata": {},
   "source": [
    "## Operando con valores nulos\n",
    "\n",
    "- **isnull()**: Genera una máscara booleana que indica los valores faltantes\n",
    "- **notnull()**: Lo contrario de **isnull()**\n",
    "- **dropna()**: Devuelve una versión filtrada de los datos\n",
    "- **fillna()**: Devuelve una copia de los datos con valores faltantes completados o imputados"
   ]
  },
  {
   "cell_type": "markdown",
   "id": "0ddef3e2",
   "metadata": {},
   "source": [
    "### Detectando valores null\n",
    "\n",
    "Las estructuras de datos de **Pandas** tienen dos métodos útiles para detectar datos nulos: **isnull()** y **notnull()**. Cualquiera de los dos devolverá una máscara booleana sobre los datos."
   ]
  },
  {
   "cell_type": "code",
   "execution_count": null,
   "id": "60911ff4",
   "metadata": {},
   "outputs": [],
   "source": [
    "# exemplo\n",
    "data = pd.Series([1, np.nan, 'hello', None])"
   ]
  },
  {
   "cell_type": "code",
   "execution_count": null,
   "id": "1675b031",
   "metadata": {},
   "outputs": [],
   "source": [
    "# isnull\n",
    "data.isnull()"
   ]
  },
  {
   "cell_type": "code",
   "execution_count": null,
   "id": "5f410d5f",
   "metadata": {},
   "outputs": [],
   "source": [
    "# work_data\n",
    "work_data.isnull()"
   ]
  },
  {
   "cell_type": "code",
   "execution_count": null,
   "id": "80fc104b",
   "metadata": {},
   "outputs": [],
   "source": [
    "#\n",
    "data[data.isnull()]"
   ]
  },
  {
   "cell_type": "markdown",
   "id": "2dcff0d6",
   "metadata": {},
   "source": [
    "### Eliminando valores nulos\n",
    "\n",
    "Existen los métodos convenientes, **dropna()** (que elimina los valores de NA) y **fillna()** (que completa los valores de NA)."
   ]
  },
  {
   "cell_type": "code",
   "execution_count": null,
   "id": "fb6142ef",
   "metadata": {},
   "outputs": [],
   "source": [
    "# dropna()\n",
    "data.dropna()"
   ]
  },
  {
   "cell_type": "code",
   "execution_count": null,
   "id": "76793e0d",
   "metadata": {},
   "outputs": [],
   "source": [
    "# exemplo\n",
    "df = pd.DataFrame([[1,      np.nan, 2],\n",
    "                   [2,      3,      5],\n",
    "                   [np.nan, 4,      6]])\n",
    "df.head()"
   ]
  },
  {
   "cell_type": "code",
   "execution_count": null,
   "id": "ebfdd561",
   "metadata": {},
   "outputs": [],
   "source": [
    "# drop\n",
    "df.dropna()"
   ]
  },
  {
   "cell_type": "code",
   "execution_count": null,
   "id": "e16e126e",
   "metadata": {},
   "outputs": [],
   "source": [
    "# work_data\n",
    "wd = work_data.dropna()\n",
    "wd.head()"
   ]
  },
  {
   "cell_type": "code",
   "execution_count": null,
   "id": "afd13fc6",
   "metadata": {},
   "outputs": [],
   "source": [
    "wd.shape"
   ]
  },
  {
   "cell_type": "code",
   "execution_count": null,
   "id": "65bfc4ed",
   "metadata": {},
   "outputs": [],
   "source": [
    "# work_data\n",
    "work_data.head(7)"
   ]
  },
  {
   "cell_type": "markdown",
   "id": "de54195b",
   "metadata": {},
   "source": [
    "> Alternativamente, puede colocar los valores NA a lo largo de un eje diferente; axis=1 elimina todas las columnas que contienen un valor nulo"
   ]
  },
  {
   "cell_type": "code",
   "execution_count": null,
   "id": "5cfafef6",
   "metadata": {},
   "outputs": [],
   "source": [
    "df.dropna(axis='columns')"
   ]
  },
  {
   "cell_type": "code",
   "execution_count": null,
   "id": "ee67df47",
   "metadata": {},
   "outputs": [],
   "source": [
    "wdc = work_data.dropna(axis='columns')\n",
    "wdc.head()"
   ]
  },
  {
   "cell_type": "code",
   "execution_count": null,
   "id": "1a391cbe",
   "metadata": {},
   "outputs": [],
   "source": [
    "wdc.shape"
   ]
  },
  {
   "cell_type": "code",
   "execution_count": null,
   "id": "a78af9d1",
   "metadata": {},
   "outputs": [],
   "source": [
    "df[3] = np.nan\n",
    "df"
   ]
  },
  {
   "cell_type": "code",
   "execution_count": null,
   "id": "02424e38",
   "metadata": {},
   "outputs": [],
   "source": [
    "df.dropna(axis='columns', how='all')"
   ]
  },
  {
   "cell_type": "markdown",
   "id": "08e62fe0",
   "metadata": {},
   "source": [
    "> Para un control más detallado, el parámetro **thresh** le permite especificar un número mínimo de valores no nulos para la fila/columna que se mantendrá:"
   ]
  },
  {
   "cell_type": "code",
   "execution_count": null,
   "id": "c757a63b",
   "metadata": {},
   "outputs": [],
   "source": [
    "df.dropna(axis='rows', thresh=3)"
   ]
  },
  {
   "cell_type": "markdown",
   "id": "66549ffc",
   "metadata": {},
   "source": [
    "### Llenando valores nulos\n",
    ">A veces, en lugar de eliminar los valores de NA, es mejor reemplazarlos con un valor válido. Este valor podría ser un número único como cero, o podría ser algún tipo de imputación o interpolación de los buenos valores. Se podría hacer usando el método *isnull()* como máscara, pero debido a que es una operación tan común, **Pandas** proporciona el método **fillna()**, que devuelve una copia de la matriz con los valores nulos reemplazados."
   ]
  },
  {
   "cell_type": "code",
   "execution_count": null,
   "id": "4edcb02b",
   "metadata": {},
   "outputs": [],
   "source": [
    "data = pd.Series([1, np.nan, 2, None, 3], index=list('abcde'))\n",
    "data"
   ]
  },
  {
   "cell_type": "code",
   "execution_count": null,
   "id": "2cc41b93",
   "metadata": {},
   "outputs": [],
   "source": [
    "data.fillna(0)"
   ]
  },
  {
   "cell_type": "code",
   "execution_count": null,
   "id": "247b7436",
   "metadata": {},
   "outputs": [],
   "source": [
    "# wdc\n",
    "print(wdc[['SEM_NOT']].isnull().sum())"
   ]
  },
  {
   "cell_type": "markdown",
   "id": "a6218651",
   "metadata": {},
   "source": [
    "### Función para encontrar porcentaje de valores nulos\n",
    "Herramientas:\n",
    "- Biblioteca Python Missingno\n",
    "\n",
    "Instalación:\n",
    "\n",
    "Terminal de comandos: `pip install missingno`\n",
    "\n",
    "Anaconda: `conda search missingno --channel conda-forge`\n",
    "\n",
    "Jupyter Notebook: `!pip install missingno`\n",
    "\n",
    "Dataprep: https://dataprep.ai/"
   ]
  },
  {
   "cell_type": "code",
   "execution_count": null,
   "id": "09904b97",
   "metadata": {},
   "outputs": [],
   "source": [
    "# \n",
    "def missing_values_dataset(df):\n",
    "        # Total missing values\n",
    "        mis_val = df.isnull().sum()\n",
    "        \n",
    "        # Percentage of missing values\n",
    "        mis_val_percent = 100 * df.isnull().sum() / len(df)\n",
    "        \n",
    "        # Make a table with the results\n",
    "        mis_val_table = pd.concat([mis_val, mis_val_percent], axis=1)\n",
    "        \n",
    "        # Rename the columns\n",
    "        mis_val_table_ren_columns = mis_val_table.rename(\n",
    "        columns = {0 : 'Missing Values', 1 : '% of Total Values'})\n",
    "        \n",
    "        # Sort the table by percentage of missing descending\n",
    "        mis_val_table_ren_columns = mis_val_table_ren_columns[\n",
    "            mis_val_table_ren_columns.iloc[:,1] != 0].sort_values(\n",
    "        '% of Total Values', ascending=False).round(1)\n",
    "        \n",
    "        # Print some summary information\n",
    "        print (\"Your selected dataframe has \" + str(df.shape[1]) + \" columns.\\n\"      \n",
    "            \"There are \" + str(mis_val_table_ren_columns.shape[0]) +\n",
    "              \" columns that have missing values.\")\n",
    "        \n",
    "        # Return the dataframe with missing information\n",
    "        return mis_val_table_ren_columns"
   ]
  },
  {
   "cell_type": "code",
   "execution_count": null,
   "id": "dd738570",
   "metadata": {},
   "outputs": [],
   "source": [
    "dm = missing_values_dataset(work_data)\n",
    "dm"
   ]
  },
  {
   "cell_type": "code",
   "execution_count": null,
   "id": "d02a1021",
   "metadata": {},
   "outputs": [],
   "source": [
    "work_data.head(7)"
   ]
  },
  {
   "cell_type": "code",
   "execution_count": null,
   "id": "eb224e3b",
   "metadata": {},
   "outputs": [],
   "source": [
    "# elimina colunas com dados faltantes usando drop\n",
    "work_data.drop(['DT_VGM'], axis=1, inplace=True)\n",
    "work_data.head()"
   ]
  },
  {
   "cell_type": "markdown",
   "id": "417aa01b",
   "metadata": {},
   "source": [
    "## Ejercicios:\n",
    "\n",
    "1. Eliminar todas las columnas com >70% de valores faltantes!!\n",
    "2. Calcular las dimensiones del dataset final"
   ]
  }
 ],
 "metadata": {
  "kernelspec": {
   "display_name": "Python 3 (ipykernel)",
   "language": "python",
   "name": "python3"
  },
  "language_info": {
   "codemirror_mode": {
    "name": "ipython",
    "version": 3
   },
   "file_extension": ".py",
   "mimetype": "text/x-python",
   "name": "python",
   "nbconvert_exporter": "python",
   "pygments_lexer": "ipython3",
   "version": "3.11.5"
  }
 },
 "nbformat": 4,
 "nbformat_minor": 5
}
