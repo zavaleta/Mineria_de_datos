{
 "cells": [
  {
   "cell_type": "markdown",
   "id": "06125972-726c-4a37-8b26-6d6e228cfe01",
   "metadata": {},
   "source": [
    "![logo](images/untumbes.PNG)"
   ]
  },
  {
   "cell_type": "markdown",
   "id": "efb54904-71ff-464e-8185-d7a67dd398e6",
   "metadata": {},
   "source": [
    "<center><b>Prof. Dr. Jorge Zavaleta - zavaleta.jorge@gmail.com</b></center>"
   ]
  },
  {
   "cell_type": "markdown",
   "id": "4806011d-6353-48f4-927c-1354122258f3",
   "metadata": {},
   "source": [
    "# Algoritmo FP-Growth"
   ]
  },
  {
   "cell_type": "code",
   "execution_count": null,
   "id": "8264852f-c681-4854-899f-e6d9d61021a6",
   "metadata": {},
   "outputs": [],
   "source": [
    "#librarys\n",
    "import pandas as pd\n",
    "import numpy as np\n",
    "import random\n",
    "#\n",
    "import heapq\n",
    "from mlxtend.frequent_patterns import apriori\n",
    "from mlxtend.frequent_patterns import association_rules\n",
    "from mlxtend.preprocessing import TransactionEncoder\n",
    "from mlxtend.frequent_patterns import fpgrowth\n",
    "#\n",
    "from surprise import Dataset, Reader, KNNBasic\n",
    "# ml\n",
    "from surprise.model_selection import train_test_split\n",
    "\n",
    "# graphics\n",
    "import matplotlib.pylab as plt\n",
    "%matplotlib inline\n",
    "#\n",
    "import warnings\n",
    "warnings.filterwarnings(\"ignore\")"
   ]
  },
  {
   "cell_type": "code",
   "execution_count": null,
   "id": "1089d8ec-1680-4884-84e6-8829e23f3950",
   "metadata": {},
   "outputs": [],
   "source": [
    "# Passo 1: Gerar um conjunto de dados aleatório\n",
    "data = [['Leite', 'Cebola', 'Noz-Moscada', 'Feijão', 'Ovos', 'Iogurte'],\n",
    "        ['Dill', 'Cebola', 'Noz-Moscada', 'Feijão', 'Ovos', 'Iogurte'],\n",
    "        ['Leite', 'Maçã', 'Feijão', 'Ovos'],\n",
    "        ['Leite', 'Milho', 'Noz-Moscada', 'Feijão', 'Iogurte'],\n",
    "        ['Milho', 'Cebola', 'Cebola', 'Feijão', 'Sorvete', 'Ovos']]\n",
    "data"
   ]
  },
  {
   "cell_type": "code",
   "execution_count": null,
   "id": "b1cab4fd-a2fe-480a-9ccd-bd3e17bfaed2",
   "metadata": {},
   "outputs": [],
   "source": [
    "# Passo 2: Pré-processamento dos dados\n",
    "te = TransactionEncoder()\n",
    "te_tmp = te.fit(data).transform(data)\n",
    "df = pd.DataFrame(te_tmp, columns=te.columns_)\n",
    "df"
   ]
  },
  {
   "cell_type": "code",
   "execution_count": null,
   "id": "4ed9e00a-985e-42a9-8d89-679b57fdb646",
   "metadata": {},
   "outputs": [],
   "source": [
    "df.shape"
   ]
  },
  {
   "cell_type": "code",
   "execution_count": null,
   "id": "55afabc3-00a6-414e-8c4b-a421e7e057e8",
   "metadata": {},
   "outputs": [],
   "source": [
    "# Passo 3: Aplicar o algoritmo FP-Growth\n",
    "frequent_itemsets = fpgrowth(df, min_support=0.6, use_colnames=True)\n",
    "frequent_itemsets[['itemsets','support']]"
   ]
  },
  {
   "cell_type": "code",
   "execution_count": null,
   "id": "b5d78d2f-0889-4e2c-b809-504056ab935b",
   "metadata": {},
   "outputs": [],
   "source": [
    "# Collecting the inferred rules in a dataframe \n",
    "reglas = association_rules(frequent_itemsets, metric =\"lift\", min_threshold = 1) \n",
    "reglas = reglas.sort_values(['confidence', 'lift'], ascending =[False, False]) \n",
    "reglas.head(10)"
   ]
  },
  {
   "cell_type": "markdown",
   "id": "952ab80d-4024-4e4c-80c0-75dcc148f35b",
   "metadata": {},
   "source": [
    ">## Análisis\n",
    "\n",
    "Podemos interpretar las reglas resultantes de la siguiente manera:\n",
    "\n",
    "Valor de soporte -> muestra que quien compra Noz-Moscada compra Iogurte tiene un soporte de 0.6\n",
    "\n",
    "Valor de Confianza -> muestra que el 100% de los clientes que compran Noz-Moscada también compran Iogurte.\n",
    "\n",
    "Valor de elevación -> muestra que las ventas de (Iogurte) aumentan en 1.67 para las compras con Noz-Moscada."
   ]
  },
  {
   "cell_type": "markdown",
   "id": "3342ae1c-14d0-4543-bbe0-855429f4125e",
   "metadata": {},
   "source": [
    ">## Cesta do Tio José"
   ]
  },
  {
   "cell_type": "code",
   "execution_count": null,
   "id": "ac585907-d686-41d4-ad8b-2d5bb3491b26",
   "metadata": {},
   "outputs": [],
   "source": [
    "# Load and preprocess data set\n",
    "ctjose = pd.read_csv('data/cesta.csv', sep=';', encoding='latin-1')\n",
    "ctjose.set_index('TID', inplace=True)\n",
    "ctjose.head(10)"
   ]
  },
  {
   "cell_type": "code",
   "execution_count": null,
   "id": "7865dfe3-bd5b-48e2-b8a0-1e2b92227111",
   "metadata": {},
   "outputs": [],
   "source": [
    "ctjose.shape"
   ]
  },
  {
   "cell_type": "code",
   "execution_count": null,
   "id": "8b2af017-496f-4e8c-ba89-934ce8b46791",
   "metadata": {},
   "outputs": [],
   "source": [
    "# Passo 2: Pré-processamento dos dados- ya está en 1/0\n",
    "#te_tj = TransactionEncoder()\n",
    "#te_tj_tmp = te_tj.fit(ctjose).transform(ctjose)\n",
    "#data_tj = pd.DataFrame(te_tj_tmp, columns=te_tj.columns_)\n",
    "#data_tj.head()"
   ]
  },
  {
   "cell_type": "code",
   "execution_count": null,
   "id": "c2b285fd-f7a5-43d4-a1c2-e4d57d974c0c",
   "metadata": {},
   "outputs": [],
   "source": [
    "# aplicando el algoritmo\n",
    "cesta_items = fpgrowth(ctjose, min_support=0.5, use_colnames=True)\n",
    "cesta_items[['itemsets','support']]"
   ]
  },
  {
   "cell_type": "code",
   "execution_count": null,
   "id": "a45ba011-2688-4741-8f78-3af9a7c9efcb",
   "metadata": {},
   "outputs": [],
   "source": [
    "# Collecting the inferred rules in a dataframe \n",
    "tjose_rules = association_rules(cesta_items, metric =\"confidence\", min_threshold = 0.5) \n",
    "tjose_rules = tjose_rules.sort_values(['confidence', 'lift'], ascending =[False, False]) \n",
    "tjose_rules.head(10) "
   ]
  },
  {
   "cell_type": "markdown",
   "id": "826f9349-b7fc-4781-b005-414a5cb537f8",
   "metadata": {},
   "source": [
    "## Análisis\n",
    "\n",
    "Podemos interpretar las reglas resultantes de la siguiente manera:\n",
    "\n",
    "Valor de soporte -> muestra que quien compra Álcool compra tomates tiene un soporte de 0.52\n",
    "\n",
    "Valor de Confianza -> muestra que el 100% de los clientes que compran {Álcool,Tomates,Laranjas,Macas} también compran {Tomates,alcool,laranjas, Macas}.\n",
    "\n",
    "Valor de elevación -> muestra que las ventas de (Tomates) aumentan en 1.92 para las compras con Alcool."
   ]
  },
  {
   "cell_type": "code",
   "execution_count": null,
   "id": "e4b67142-a0d9-44e7-83d6-1bf4c5aeb19a",
   "metadata": {},
   "outputs": [],
   "source": []
  },
  {
   "cell_type": "markdown",
   "id": "891e15d0-7b86-4fc1-b08e-a11eaa04d012",
   "metadata": {},
   "source": [
    "---\n",
    "<center><b>&copy;Jorge Zavaleta, 2024</b></center>"
   ]
  }
 ],
 "metadata": {
  "kernelspec": {
   "display_name": "Python 3 (ipykernel)",
   "language": "python",
   "name": "python3"
  },
  "language_info": {
   "codemirror_mode": {
    "name": "ipython",
    "version": 3
   },
   "file_extension": ".py",
   "mimetype": "text/x-python",
   "name": "python",
   "nbconvert_exporter": "python",
   "pygments_lexer": "ipython3",
   "version": "3.11.7"
  }
 },
 "nbformat": 4,
 "nbformat_minor": 5
}
