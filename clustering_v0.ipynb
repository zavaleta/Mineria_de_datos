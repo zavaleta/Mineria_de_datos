{
 "cells": [
  {
   "cell_type": "markdown",
   "id": "87156505-73fa-421c-9c4e-c568856ad3a4",
   "metadata": {},
   "source": [
    "![logo](images/untumbes.PNG)"
   ]
  },
  {
   "cell_type": "markdown",
   "id": "e5f576f8-f7a6-4eca-867f-7a68eff8f4b0",
   "metadata": {},
   "source": [
    "<center><b>Prof. Dr. Jorge Zavaleta - zavaleta.jorge@gmail.com</b></center>"
   ]
  },
  {
   "cell_type": "markdown",
   "id": "ee580945-235a-4966-a03f-188ed1bfa323",
   "metadata": {},
   "source": [
    ">## Algoritmos de Agrupamientos (Clustering)\n"
   ]
  },
  {
   "cell_type": "code",
   "execution_count": null,
   "id": "4269b5af-30ee-4f00-a221-f15a001768a4",
   "metadata": {},
   "outputs": [],
   "source": [
    "# librarys\n",
    "import numpy as np\n",
    "import pandas as pd\n",
    "from pandas.plotting import parallel_coordinates\n",
    "# sklearn\n",
    "from sklearn import preprocessing\n",
    "from sklearn.metrics import pairwise\n",
    "from scipy.cluster.hierarchy import dendrogram, linkage, fcluster\n",
    "from sklearn.cluster import KMeans\n",
    "# graphics\n",
    "import matplotlib.pylab as plt\n",
    "import seaborn as sns\n",
    "from pandas.plotting import parallel_coordinates\n",
    "# warnings\n",
    "import warnings\n",
    "warnings.filterwarnings(\"ignore\")"
   ]
  },
  {
   "cell_type": "markdown",
   "id": "eca869e7-1f25-4b4c-999e-d6b3496dc12e",
   "metadata": {},
   "source": [
    ">## Leitura de datos"
   ]
  },
  {
   "cell_type": "code",
   "execution_count": null,
   "id": "3b23c1cf-eda0-4904-a8f6-30f8ee769eff",
   "metadata": {},
   "outputs": [],
   "source": [
    "# paths\n",
    "path_dataset ='data/'    # diretorio do dataset local\n",
    "# dataset read\n",
    "file_name='curados_obitos_final.csv'          # nome do dataset\n",
    "covid19 = pd.read_csv(path_dataset+file_name,sep=';',encoding='utf-8',low_memory=False) #index_col=0  #encoding='ISO-8859-1','latin-1')     # leitura do dataset\n",
    "covid19.head()"
   ]
  },
  {
   "cell_type": "code",
   "execution_count": null,
   "id": "39124459-788d-45f7-ab03-108ea7c83717",
   "metadata": {},
   "outputs": [],
   "source": [
    "#data x\n",
    "covid19.columns.name='SINTO'\n",
    "covid19.head()"
   ]
  },
  {
   "cell_type": "code",
   "execution_count": null,
   "id": "add83af7-3fd6-4946-951a-324842304a77",
   "metadata": {},
   "outputs": [],
   "source": [
    "dX = covid19.copy()\n",
    "dX.head()"
   ]
  },
  {
   "cell_type": "code",
   "execution_count": null,
   "id": "24f9f06b-abae-4402-978f-fe0f5e91ba9c",
   "metadata": {},
   "outputs": [],
   "source": [
    "dX.shape"
   ]
  },
  {
   "cell_type": "code",
   "execution_count": null,
   "id": "2a4b5220-de21-45a0-86a4-d04cc200fc07",
   "metadata": {},
   "outputs": [],
   "source": [
    "dY = covid19.T\n",
    "dY.head()"
   ]
  },
  {
   "cell_type": "code",
   "execution_count": null,
   "id": "4ab530e7-d260-4f41-9203-53ca069e8cde",
   "metadata": {},
   "outputs": [],
   "source": [
    "dY.shape"
   ]
  },
  {
   "cell_type": "code",
   "execution_count": null,
   "id": "47a57d80-e1e1-4a1a-a1cf-43fdcd67a486",
   "metadata": {},
   "outputs": [],
   "source": [
    "#cria matriz cuadrada\n",
    "ncols = dX.shape[1]\n",
    "data_dist = pd.DataFrame(np.zeros((ncols,ncols)))\n",
    "nc = dX.keys()\n",
    "data_dist.columns = list(nc)\n",
    "data_dist.index = list(nc)\n",
    "data_dist.head()"
   ]
  },
  {
   "cell_type": "code",
   "execution_count": null,
   "id": "174d278b-237c-4a3b-b4de-22d65e6acaf9",
   "metadata": {},
   "outputs": [],
   "source": [
    "# calcular distancia euclideana\n",
    "def dist_euclidean(X,Y, dXY):\n",
    "    nidx = X.shape[0]\n",
    "    ncols = X.shape[1]\n",
    "    name_cols = list(X.keys())\n",
    "    for i in range(0,ncols-1):\n",
    "        coluna = name_cols[i]\n",
    "        for j in range(0,ncols-1):\n",
    "            fila = name_cols[j]\n",
    "            s = 0\n",
    "            for i in range(0,nidx-1):\n",
    "                vx = dX.loc[i,coluna]\n",
    "                vy = dY.loc[fila,i]\n",
    "                p = (vx-vy)*(vx-vy)\n",
    "                s = s+p\n",
    "            r = round(np.sqrt(s),2)\n",
    "            dXY.loc[fila,coluna] = r     \n",
    "    #\n",
    "    return dXY"
   ]
  },
  {
   "cell_type": "code",
   "execution_count": null,
   "id": "d841dfd3-908f-453c-9bed-44c8d1c185a5",
   "metadata": {
    "scrolled": true
   },
   "outputs": [],
   "source": [
    "diste = dist_euclidean(dX,dY,data_dist)\n",
    "diste.head(10)"
   ]
  },
  {
   "cell_type": "code",
   "execution_count": null,
   "id": "66f9aeb8-b467-49b0-b18f-359c6dcaa711",
   "metadata": {},
   "outputs": [],
   "source": [
    "diste.head(10)"
   ]
  },
  {
   "cell_type": "code",
   "execution_count": null,
   "id": "d2d79074-5143-4bac-9a1e-f3ea93998f94",
   "metadata": {},
   "outputs": [],
   "source": [
    "# Index and columns names\n",
    "diste.columns.name='SINTO'\n",
    "diste.index.name = 'SINTO'\n",
    "diste.head()"
   ]
  },
  {
   "cell_type": "code",
   "execution_count": null,
   "id": "5a1afb44-aa1e-46ef-97d4-fbf4fad8423b",
   "metadata": {},
   "outputs": [],
   "source": [
    "#normalizando\n",
    "# scikit-learn uses population standard deviation\n",
    "data_norm = diste.apply(preprocessing.scale, axis=0)\n",
    "data_norm.head()"
   ]
  },
  {
   "cell_type": "code",
   "execution_count": null,
   "id": "fe8bcdc9-870c-4549-9fb0-e88820f4ad99",
   "metadata": {},
   "outputs": [],
   "source": [
    "# pandas uses sample standard deviation\n",
    "data_norm = (diste - diste.mean())/diste.std()\n",
    "data_norm.head()"
   ]
  },
  {
   "cell_type": "code",
   "execution_count": null,
   "id": "df3aff82-5d33-4305-a02e-27ee78d8b7f6",
   "metadata": {},
   "outputs": [],
   "source": [
    "d_norm = data_norm.drop('EVOLUCAO',axis=1)\n",
    "d_norm = d_norm.drop('EVOLUCAO',axis=0)\n",
    "d_norm.head()"
   ]
  },
  {
   "cell_type": "code",
   "execution_count": null,
   "id": "564a8fff-41e1-4fa1-8585-bc70eb0e6e45",
   "metadata": {},
   "outputs": [],
   "source": [
    "d_norm.shape"
   ]
  },
  {
   "cell_type": "code",
   "execution_count": null,
   "id": "c98114a2-595e-458d-82c8-c17943f490e3",
   "metadata": {},
   "outputs": [],
   "source": [
    "#data_norm[['FEBRE','TOSSE']]\n",
    "d1_norm = pairwise.pairwise_distances(d_norm[['FEBRE','TOSSE','DISPNEIA','DESC_RESP']], metric='euclidean')\n",
    "dx_norm = pd.DataFrame(d1_norm, columns=d_norm.index, index=d_norm.index)\n",
    "dx_norm"
   ]
  },
  {
   "cell_type": "code",
   "execution_count": null,
   "id": "c7b056a1-e6ac-45b4-932e-8869ff44dc06",
   "metadata": {},
   "outputs": [],
   "source": [
    "# linkage single\n",
    "Z = linkage(dx_norm, method='single')\n",
    "dendrogram(Z, labels=dx_norm.index, color_threshold=2.75)"
   ]
  },
  {
   "cell_type": "code",
   "execution_count": null,
   "id": "1ebc8e65-00c5-4547-86cc-cf7f5e65ca75",
   "metadata": {},
   "outputs": [],
   "source": [
    "# dendogram\n",
    "Z = linkage(dx_norm, method='average')\n",
    "dendrogram(Z, labels=dx_norm.index, color_threshold=3.6)"
   ]
  },
  {
   "cell_type": "code",
   "execution_count": null,
   "id": "bfe37f93-c474-4659-89ef-31fefeea0c33",
   "metadata": {},
   "outputs": [],
   "source": [
    "# linkage simples\n",
    "memb = fcluster(linkage(dx_norm, method='single'), 6, criterion='maxclust')\n",
    "memb = pd.Series(memb, index=dx_norm.index)\n",
    "for key, item in memb.groupby(memb):\n",
    "    print(key, ': ', ', '.join(item.index))"
   ]
  },
  {
   "cell_type": "code",
   "execution_count": null,
   "id": "9a4296da-ffd1-47ce-807a-91bd925b5b93",
   "metadata": {},
   "outputs": [],
   "source": [
    "# linkage average\n",
    "memb = fcluster(linkage(dx_norm, method='average'), 6, criterion='maxclust')\n",
    "memb = pd.Series(memb, index=dx_norm.index)\n",
    "for key, item in memb.groupby(memb):\n",
    "    print(key, ': ', ', '.join(item.index))"
   ]
  },
  {
   "cell_type": "code",
   "execution_count": null,
   "id": "3a73942a-eadb-4e19-b899-eb5b0c5e6e34",
   "metadata": {},
   "outputs": [],
   "source": [
    "# set labels as cluster membership and utility name\n",
    "dx_norm.index = ['{}: {}'.format(cluster, state) for cluster, state in zip(memb, dx_norm.index)]\n",
    "#"
   ]
  },
  {
   "cell_type": "code",
   "execution_count": null,
   "id": "36cb095b-eaaf-4bc8-b805-505d505261ae",
   "metadata": {},
   "outputs": [],
   "source": [
    "# plot heatmap\n",
    "# the '_r' suffix reverses the color mapping to large = dark\n",
    "sns.clustermap(dx_norm, method='average', col_cluster=False, cmap='mako_r');"
   ]
  },
  {
   "cell_type": "code",
   "execution_count": null,
   "id": "d35ea7c6-4f64-4417-8b2b-14cf9e5b48ab",
   "metadata": {},
   "outputs": [],
   "source": [
    "# kmeans k= 6 cluster\n",
    "kmedias = KMeans(n_clusters=6, random_state=0).fit(dx_norm)\n",
    "# Cluster membership\n",
    "memb = pd.Series(kmedias.labels_, index=dx_norm.index)\n",
    "for key, item in memb.groupby(memb):\n",
    "    print(key, ': ', ', '.join(item.index))"
   ]
  },
  {
   "cell_type": "code",
   "execution_count": null,
   "id": "6ba27ce4-b436-4ade-bf62-74e8252c4e62",
   "metadata": {},
   "outputs": [],
   "source": [
    "#centroids\n",
    "centroides = pd.DataFrame(kmedias.cluster_centers_, columns=dx_norm.columns)\n",
    "#pd.options.display.max_rows = 5\n",
    "centroides.head(5)"
   ]
  },
  {
   "cell_type": "code",
   "execution_count": null,
   "id": "2d0bafb1-9bea-46ad-98eb-db2822b7e274",
   "metadata": {},
   "outputs": [],
   "source": [
    "#Within-cluster sum of squared distances and cluster count\n",
    "# calculate the distances of each data point to the cluster centers\n",
    "distances = kmedias.transform(dx_norm)\n",
    "distances"
   ]
  },
  {
   "cell_type": "code",
   "execution_count": null,
   "id": "425d6b74-3fb9-4322-92a8-733c5f4846ce",
   "metadata": {},
   "outputs": [],
   "source": [
    "# find closest cluster for each data point\n",
    "minSquaredDistances = distances.min(axis=1) ** 2\n",
    "minSquaredDistances"
   ]
  },
  {
   "cell_type": "code",
   "execution_count": null,
   "id": "88ebd470-a132-4550-af0a-319b029b0ea6",
   "metadata": {},
   "outputs": [],
   "source": [
    "# combine with cluster labels into a data frame\n",
    "df = pd.DataFrame({'squaredDistance': minSquaredDistances, 'cluster': kmedias.labels_},index=dx_norm.index)\n",
    "df.head()"
   ]
  },
  {
   "cell_type": "code",
   "execution_count": null,
   "id": "63ec3cd5-3214-42ed-821e-d12487833146",
   "metadata": {},
   "outputs": [],
   "source": [
    "# group by cluster and print information\n",
    "for cluster, data in df.groupby('cluster'):\n",
    "    count = len(data)\n",
    "    withinClustSS = data.squaredDistance.sum()\n",
    "    print(f'Cluster {cluster} ({count} members): {withinClustSS:.2f} dentro del cluster ')"
   ]
  },
  {
   "cell_type": "code",
   "execution_count": null,
   "id": "fa8b0807-5062-4ce9-a4b2-22da383b6340",
   "metadata": {},
   "outputs": [],
   "source": [
    "#plot\n",
    "centroides['cluster'] = ['Cluster {}'.format(i) for i in centroides.index]\n",
    "#\n",
    "plt.figure(figsize=(10,6))\n",
    "parallel_coordinates(centroides, class_column='cluster', colormap='Dark2', linewidth=5)\n",
    "plt.legend(loc='center left', bbox_to_anchor=(1, 0.5));"
   ]
  },
  {
   "cell_type": "code",
   "execution_count": null,
   "id": "a41caa94-885c-4bf4-821f-058c66c2e488",
   "metadata": {},
   "outputs": [],
   "source": [
    "ratings = [['john',5,5,2,1],['mary',4,5,3,2],['bob',4,4,4,3],['lisa',2,2,4,5],['lee',1,2,3,4],['harry',2,1,5,5]]\n",
    "titles = ['user','Jaws','Star Wars','Exorcist','Omen']\n",
    "movies = pd.DataFrame(ratings,columns=titles)\n",
    "data = movies.drop('user',axis=1)\n",
    "data.head()"
   ]
  },
  {
   "cell_type": "code",
   "execution_count": null,
   "id": "9e8a4a39-fe95-4397-9382-12b247d18b45",
   "metadata": {},
   "outputs": [],
   "source": [
    "#import matplotlib.pyplot as plt\n",
    "#%matplotlib inline\n",
    "from sklearn import cluster\n",
    "\n",
    "numClusters = [1,2,3,4,5,6]\n",
    "SSE = []\n",
    "for k in numClusters:\n",
    "    k_means = cluster.KMeans(n_clusters=k)\n",
    "    k_means.fit(dx_norm)\n",
    "    SSE.append(k_means.inertia_)\n",
    "\n",
    "plt.plot(numClusters, SSE)\n",
    "plt.xlabel('Number of Clusters')\n",
    "plt.ylabel('SSE');"
   ]
  },
  {
   "cell_type": "markdown",
   "id": "2c19957a-c34a-484b-abd6-67d503d84bdb",
   "metadata": {},
   "source": [
    "---\n",
    "<center><b>© Jorge Zavaleta, 2024</b></center>"
   ]
  }
 ],
 "metadata": {
  "kernelspec": {
   "display_name": "Python 3 (ipykernel)",
   "language": "python",
   "name": "python3"
  },
  "language_info": {
   "codemirror_mode": {
    "name": "ipython",
    "version": 3
   },
   "file_extension": ".py",
   "mimetype": "text/x-python",
   "name": "python",
   "nbconvert_exporter": "python",
   "pygments_lexer": "ipython3",
   "version": "3.11.7"
  }
 },
 "nbformat": 4,
 "nbformat_minor": 5
}
