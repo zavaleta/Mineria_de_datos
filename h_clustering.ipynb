{
 "cells": [
  {
   "cell_type": "markdown",
   "id": "4d26acae-ebc5-4cd9-8db0-447822f60be5",
   "metadata": {},
   "source": [
    "![logo](images/untumbes.PNG)"
   ]
  },
  {
   "cell_type": "markdown",
   "id": "9c1a93f8-775f-48c9-806d-000fe37c1b28",
   "metadata": {},
   "source": [
    "<center><b>Prof. Dr. Jorge Zavaleta - zavaleta.jorge@gmail.com</b></center>"
   ]
  },
  {
   "cell_type": "markdown",
   "id": "2f2d272e-ab19-4a8f-86f2-977ec8b602f1",
   "metadata": {},
   "source": [
    "# Agrupación Jerárquica"
   ]
  },
  {
   "cell_type": "markdown",
   "id": "ae7f733e-ce0d-494a-90fc-37f8d2bc78e2",
   "metadata": {},
   "source": [
    "Ejemplos de aplicación de agrupamiento jerárquico al dataset de vertebrados utilizado clasificación. \n",
    "\n",
    "Específicamente, ilustramos los resultados del uso de 3 algoritmos de agrupamiento jerárquico proporcionados por la biblioteca *scipy* de Python: \n",
    " 1. Enlace único (MIN) - (single link)\n",
    " 2. Enlace completo (MAX) - (complete link)\n",
    " 3. Promedio de grupo - (group average).\n",
    "\n",
    "Otros algoritmos de agrupamiento jerárquico proporcionados por la biblioteca incluyen el método de Ward y el basado en centroides."
   ]
  },
  {
   "cell_type": "code",
   "execution_count": null,
   "id": "5576d82d-59e9-411a-853c-f62f987069ff",
   "metadata": {},
   "outputs": [],
   "source": [
    "# librarys\n",
    "import pandas as pd\n",
    "import numpy as np\n",
    "from sklearn import cluster\n",
    "from scipy.cluster import hierarchy\n",
    "#\n",
    "import matplotlib.pyplot as plt\n",
    "%matplotlib inline\n",
    "\n",
    "#\n",
    "import warnings\n",
    "warnings.filterwarnings(\"ignore\")"
   ]
  },
  {
   "cell_type": "code",
   "execution_count": null,
   "id": "9126ebed-b815-4313-a814-9971d6a2baf6",
   "metadata": {},
   "outputs": [],
   "source": [
    "#lectura de datos\n",
    "data = pd.read_csv('data/vertebrados.csv',header='infer',encoding='latin-1',sep=',')\n",
    "data"
   ]
  },
  {
   "cell_type": "markdown",
   "id": "35dbd210-0cca-494b-b42d-d92c1aa24d76",
   "metadata": {},
   "source": [
    ">## Enlace único (MIN) - (single link)"
   ]
  },
  {
   "cell_type": "code",
   "execution_count": null,
   "id": "efdf7df8-a17b-47b5-b096-6b5764f7a226",
   "metadata": {},
   "outputs": [],
   "source": [
    "nombres = data['Nombre']\n",
    "Y = data['Clase']\n",
    "X = data.drop(['Nombre','Clase'],axis=1)\n",
    "Z = hierarchy.linkage(X.values, 'single')\n",
    "dn = hierarchy.dendrogram(Z,labels=nombres.tolist(),orientation='right')"
   ]
  },
  {
   "cell_type": "markdown",
   "id": "03109aa6-cb7d-413b-bd85-ad07c79803af",
   "metadata": {},
   "source": [
    "> ## Enlace completo (MAX) - (complete link)"
   ]
  },
  {
   "cell_type": "code",
   "execution_count": null,
   "id": "17b3d0bb-fbec-4138-b137-004f458bc41d",
   "metadata": {},
   "outputs": [],
   "source": [
    "Z = hierarchy.linkage(X.values, 'complete')\n",
    "dn = hierarchy.dendrogram(Z,labels=nombres.tolist(),orientation='right')"
   ]
  },
  {
   "cell_type": "markdown",
   "id": "ce1d8ab8-dcd9-4f99-abb8-103b6e943c03",
   "metadata": {},
   "source": [
    ">## Promedio de grupo - (group average)"
   ]
  },
  {
   "cell_type": "code",
   "execution_count": null,
   "id": "57242e4a-cb6d-4962-8f83-3bf59a5ce318",
   "metadata": {},
   "outputs": [],
   "source": [
    "Z = hierarchy.linkage(X.values, 'average')\n",
    "dn = hierarchy.dendrogram(Z,labels=nombres.tolist(),orientation='right')"
   ]
  },
  {
   "cell_type": "markdown",
   "id": "4a7153e1-bb33-4432-a431-387f67e5cfc0",
   "metadata": {},
   "source": [
    "---\n",
    "<center><b>&copy;Jorge Zavaleta, 2024</b></center>"
   ]
  }
 ],
 "metadata": {
  "kernelspec": {
   "display_name": "Python 3 (ipykernel)",
   "language": "python",
   "name": "python3"
  },
  "language_info": {
   "codemirror_mode": {
    "name": "ipython",
    "version": 3
   },
   "file_extension": ".py",
   "mimetype": "text/x-python",
   "name": "python",
   "nbconvert_exporter": "python",
   "pygments_lexer": "ipython3",
   "version": "3.11.7"
  }
 },
 "nbformat": 4,
 "nbformat_minor": 5
}
