{
 "cells": [
  {
   "cell_type": "markdown",
   "id": "0c62e77b-e3f0-4991-92f1-ba4211d7fc4b",
   "metadata": {},
   "source": [
    "![logo](images/untumbes.PNG)"
   ]
  },
  {
   "cell_type": "markdown",
   "id": "03652799-e127-49d1-a744-f004f073ce14",
   "metadata": {},
   "source": [
    "<center><b>Prof. Dr. Jorge Zavaleta - zavaleta.jorge@gmail.com</b></center>"
   ]
  },
  {
   "cell_type": "markdown",
   "id": "4f31362c-e587-49f7-ac01-f733253718db",
   "metadata": {},
   "source": [
    "# Reglas de asociación"
   ]
  },
  {
   "cell_type": "code",
   "execution_count": null,
   "id": "f84c756f-7fe1-4ccd-80fd-af47536dd345",
   "metadata": {},
   "outputs": [],
   "source": [
    "#librarys\n",
    "import pandas as pd\n",
    "import numpy as np\n",
    "#\n",
    "import heapq\n",
    "from mlxtend.frequent_patterns import apriori\n",
    "from mlxtend.frequent_patterns import association_rules\n",
    "from mlxtend.preprocessing import TransactionEncoder\n",
    "#\n",
    "from surprise import Dataset, Reader, KNNBasic\n",
    "# ml\n",
    "from surprise.model_selection import train_test_split\n",
    "\n",
    "# graphics\n",
    "import matplotlib.pylab as plt\n",
    "%matplotlib inline\n",
    "#\n",
    "import warnings\n",
    "warnings.filterwarnings(\"ignore\")"
   ]
  },
  {
   "cell_type": "markdown",
   "id": "cc6fe06a-4f21-4cce-aa1a-74ed641eb212",
   "metadata": {},
   "source": [
    ">## Situación a resolver"
   ]
  },
  {
   "cell_type": "markdown",
   "id": "10e0ec97-7fb1-43d4-a2ad-aeb9d0018ba3",
   "metadata": {},
   "source": [
    "1. Una tienda que vende accesorios para teléfonos móviles realiza una promoción en placas frontales.\n",
    "2. Los clientes que compren varias placas frontales entre una selección de seis colores diferentes obtienen un descuento.\n",
    "3. Los gerentes de la tienda, que querían saber qué colores de placas frontales es probable que los clientes compren juntos, recopilaron la base de datos de transacciones [1]"
   ]
  },
  {
   "cell_type": "code",
   "execution_count": null,
   "id": "0aee7b2c-6e1c-402c-8ee4-723b59dc8ffb",
   "metadata": {},
   "outputs": [],
   "source": [
    "# Load and preprocess data set\n",
    "data = pd.read_csv('data/Faceplate.csv')\n",
    "data.set_index('Transaction', inplace=True)\n",
    "data.head(10)"
   ]
  },
  {
   "cell_type": "code",
   "execution_count": null,
   "id": "65d6259a-1371-4c67-aba9-6507ebc281b9",
   "metadata": {},
   "outputs": [],
   "source": [
    "data.shape"
   ]
  },
  {
   "cell_type": "markdown",
   "id": "27f8bf68-1f8c-4301-97ab-8d8b831f48e2",
   "metadata": {},
   "source": [
    ">## Crear las frequencias"
   ]
  },
  {
   "cell_type": "code",
   "execution_count": null,
   "id": "f771ae32-d5f6-4724-ae9d-cbac1b938c34",
   "metadata": {},
   "outputs": [],
   "source": [
    "# create frequent itemsets\n",
    "itemsets = apriori(data, min_support=0.2, use_colnames=True)\n",
    "itemsets[['itemsets','support']]"
   ]
  },
  {
   "cell_type": "markdown",
   "id": "7e6202e2-87b3-4c9c-ada6-f888d82d32a3",
   "metadata": {},
   "source": [
    ">## Convertir las frecuencias en reglas"
   ]
  },
  {
   "cell_type": "markdown",
   "id": "6d09370a-d028-417f-b60f-14864d00a306",
   "metadata": {},
   "source": [
    "![bm](images/bm.png)"
   ]
  },
  {
   "cell_type": "markdown",
   "id": "dcf26b6c-db13-455c-ada6-c95b05b04752",
   "metadata": {},
   "source": [
    "![lift](images/lift.png)"
   ]
  },
  {
   "cell_type": "code",
   "execution_count": null,
   "id": "9f5226f5-2797-4197-9e4f-07a12b4ea717",
   "metadata": {},
   "outputs": [],
   "source": [
    "# convert into rules\n",
    "rules = association_rules(itemsets, metric='confidence', min_threshold=0.5)\n",
    "rules.sort_values(by=['lift'], ascending=False).head(6)"
   ]
  },
  {
   "cell_type": "code",
   "execution_count": null,
   "id": "4b4ae199-6c64-4fbe-8940-d5fae1468efd",
   "metadata": {},
   "outputs": [],
   "source": [
    "regras = rules.sort_values(by=['lift'], ascending=False)\n",
    "rules_dataset = regras.drop(columns=['antecedent support', 'consequent support', 'conviction'])\n",
    "rules_dataset.head()"
   ]
  },
  {
   "cell_type": "markdown",
   "id": "121af390-efe5-4955-b668-89ff79c49ff4",
   "metadata": {},
   "source": [
    ">## Comestibles"
   ]
  },
  {
   "cell_type": "code",
   "execution_count": null,
   "id": "a4c47082-7c59-4c4e-a04b-93227954361b",
   "metadata": {},
   "outputs": [],
   "source": [
    "# Load and preprocess data set\n",
    "comes = pd.read_csv('data/basket.csv')\n",
    "comes.head()"
   ]
  },
  {
   "cell_type": "code",
   "execution_count": null,
   "id": "10f99641-e388-4c8c-99ae-874c2a145a1f",
   "metadata": {},
   "outputs": [],
   "source": [
    "#tratando valores NaN\n",
    "comes.replace(np.nan,0,inplace=True)\n",
    "comes.head(10)"
   ]
  },
  {
   "cell_type": "code",
   "execution_count": null,
   "id": "820667e6-4eef-4606-b978-15c905859fd7",
   "metadata": {},
   "outputs": [],
   "source": [
    "# crear funcion lambda para mover los valosres x!=0 para uma lista\n",
    "def removerTodosZerosLista(lista):\n",
    "    return list(filter(lambda x: x!=0, lista))"
   ]
  },
  {
   "cell_type": "code",
   "execution_count": null,
   "id": "32deff6e-a46e-42f5-a8c0-484d81faeab1",
   "metadata": {},
   "outputs": [],
   "source": [
    "#transformando en lista\n",
    "lista_todas_transacciones = []\n",
    "for index, row in comes.iterrows():\n",
    "    lista_de_trans = row.values.tolist()\n",
    "    lista_de_trans = removerTodosZerosLista(lista_de_trans)\n",
    "    # adiciona a la lista general\n",
    "    lista_todas_transacciones.append(lista_de_trans)\n",
    "    \n",
    "# visualiza lista\n",
    "lista_todas_transacciones[0:10]"
   ]
  },
  {
   "cell_type": "code",
   "execution_count": null,
   "id": "29e9b8f2-ae2c-4e1b-b260-683f349e65ad",
   "metadata": {},
   "outputs": [],
   "source": [
    "# usando a biblioteca \"mlxtend\" para realizar preprocesamiento y ML.\n",
    "#\n",
    "Te = TransactionEncoder()\n",
    "#\n",
    "data_te = Te.fit(lista_todas_transacciones).transform(lista_todas_transacciones)\n",
    "data_te #one-hot-encoding"
   ]
  },
  {
   "cell_type": "code",
   "execution_count": null,
   "id": "1603199b-cb1a-4167-852b-9d71976e98a4",
   "metadata": {},
   "outputs": [],
   "source": [
    "# one-hot-encoding transformo todos los elementos comprados en columnas\n",
    "Te.columns_[0:10]"
   ]
  },
  {
   "cell_type": "code",
   "execution_count": null,
   "id": "53608b08-2229-4d56-8a4d-470704a046ee",
   "metadata": {},
   "outputs": [],
   "source": [
    "# tamanho de la lista\n",
    "len(Te.columns_)"
   ]
  },
  {
   "cell_type": "code",
   "execution_count": null,
   "id": "c98f32f7-1f14-40b2-a87f-302b289e13d1",
   "metadata": {},
   "outputs": [],
   "source": [
    "# construyendo el DataFrame de los datos de las transacciones\n",
    "T_data = pd.DataFrame(data_te, columns=Te.columns_)\n",
    "T_data.head()"
   ]
  },
  {
   "cell_type": "code",
   "execution_count": null,
   "id": "bcfe1f24-edd9-47c6-948c-7f2be5ac8a23",
   "metadata": {},
   "outputs": [],
   "source": [
    "# usando el algoritmo apriori\n",
    "frecuentes_itemsets = apriori(T_data, min_support=0.003,use_colnames=True)\n",
    "# ordenar de mayor para menor\n",
    "frecuentes_itemsets.sort_values(by=['support'],ascending=False)\n",
    "#\n",
    "frecuentes_itemsets[['itemsets','support']][0:10]"
   ]
  },
  {
   "cell_type": "code",
   "execution_count": null,
   "id": "f76e2804-1b1c-4a19-8873-d07029da2ce6",
   "metadata": {},
   "outputs": [],
   "source": [
    "# importando y usando la asociacion de reglas\n",
    "reglas = association_rules(frecuentes_itemsets,metric='confidence',min_threshold=0.001)\n",
    "#\n",
    "reglas_data = reglas.sort_values(by=['lift'],ascending=False)\n",
    "reglas_data.head()"
   ]
  },
  {
   "cell_type": "code",
   "execution_count": null,
   "id": "d8d89d79-9480-45d5-8151-e73f868bd08c",
   "metadata": {},
   "outputs": [],
   "source": [
    "# lift > 1\n",
    "rd = reglas_data.drop(['antecedent support','consequent support','leverage','conviction'], axis=1)\n",
    "rd.head(10)"
   ]
  },
  {
   "cell_type": "markdown",
   "id": "e1cbb5c0-4a6f-4f16-b7da-77e1c6021484",
   "metadata": {},
   "source": [
    "> ### Análisis?"
   ]
  },
  {
   "cell_type": "code",
   "execution_count": null,
   "id": "53c55f8f-dd29-4133-8246-770177105fc6",
   "metadata": {},
   "outputs": [],
   "source": []
  },
  {
   "cell_type": "markdown",
   "id": "0e2ff85e-bf8c-4d12-a165-5bde733f791a",
   "metadata": {},
   "source": [
    "[1] Shmueli, G. bruce, P.C. Gedeck, P. Patel, N.R. Data mining for Business Analytics: Concepts, techniques and Application in Python. John Wiley & Sons, Inc. 2020."
   ]
  },
  {
   "cell_type": "markdown",
   "id": "9f3c512b-1147-4927-a2a2-bf92f50c5ab1",
   "metadata": {},
   "source": [
    "---\n",
    "<center><b>&copy;Jorge Zavaleta, 2024</b></center>"
   ]
  }
 ],
 "metadata": {
  "kernelspec": {
   "display_name": "Python 3 (ipykernel)",
   "language": "python",
   "name": "python3"
  },
  "language_info": {
   "codemirror_mode": {
    "name": "ipython",
    "version": 3
   },
   "file_extension": ".py",
   "mimetype": "text/x-python",
   "name": "python",
   "nbconvert_exporter": "python",
   "pygments_lexer": "ipython3",
   "version": "3.11.7"
  }
 },
 "nbformat": 4,
 "nbformat_minor": 5
}
