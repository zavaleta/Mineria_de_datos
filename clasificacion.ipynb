{
 "cells": [
  {
   "cell_type": "markdown",
   "id": "5cec0010-1924-4ded-9fe9-90c7d2993cb0",
   "metadata": {},
   "source": [
    "![logo](images/untumbes.PNG)"
   ]
  },
  {
   "cell_type": "markdown",
   "id": "503a586b-1f11-4a22-bdb0-eb990caa8aa8",
   "metadata": {},
   "source": [
    "<b><center>Prof. Dr. Jorge Zavaleta - zavaleta.jorge@gmail.com</center></b>"
   ]
  },
  {
   "cell_type": "markdown",
   "id": "feb1b3ae-441a-4a6f-a50e-94fe2e73849f",
   "metadata": {},
   "source": [
    "# Clasificación de datos\n",
    "> La clasificación es el proceso de categorizar o agrupar datos en diferentes clases o categorías en función de determinadas características o atributos. "
   ]
  },
  {
   "cell_type": "markdown",
   "id": "27919646-8a19-41c4-b035-aaf134e02989",
   "metadata": {},
   "source": [
    "## Importación de las bibliotecas"
   ]
  },
  {
   "cell_type": "code",
   "execution_count": null,
   "id": "5682add3-83fc-4480-9f8c-3f37075cf9ad",
   "metadata": {
    "tags": []
   },
   "outputs": [],
   "source": [
    "# librarys\n",
    "import numpy as np                          # calculo cientifico\n",
    "import pandas as pd                         # manejo de dataframes\n",
    "import matplotlib.pyplot as plt             # visualizacion grafica\n",
    "import seaborn as sns                       # visualizacion grafica"
   ]
  },
  {
   "cell_type": "markdown",
   "id": "895dc905-f6b4-4499-9197-4a9ba85dd33d",
   "metadata": {},
   "source": [
    "## Lectura del dataset"
   ]
  },
  {
   "cell_type": "code",
   "execution_count": null,
   "id": "5deead2f-d707-43df-a980-c52c866d65d5",
   "metadata": {
    "tags": []
   },
   "outputs": [],
   "source": [
    "# paths\n",
    "path_dataset ='data/'    # diretorio do dataset local\n",
    "# dataset read\n",
    "file_name='covid_19.csv'          # nome do dataset\n",
    "dataset = pd.read_csv(path_dataset+file_name,sep=';',encoding='utf-8',low_memory=False) #index_col=0  #encoding='ISO-8859-1','latin-1')     # leitura do dataset\n",
    "dataset.head()"
   ]
  },
  {
   "cell_type": "code",
   "execution_count": null,
   "id": "469a09e5-1744-41ab-9b94-2fd560c2b2aa",
   "metadata": {
    "tags": []
   },
   "outputs": [],
   "source": [
    "# shape\n",
    "dataset.shape"
   ]
  },
  {
   "cell_type": "markdown",
   "id": "c0bc571b-1b31-49f7-b419-cbc5d83f3493",
   "metadata": {},
   "source": [
    "## Seleccionar el dataset para clasificar"
   ]
  },
  {
   "cell_type": "markdown",
   "id": "85ee258a-46e1-4664-853d-0328292e15fd",
   "metadata": {},
   "source": [
    "> Reduzir usando el objetivo (curados y obitos) - dataset['EVOLUCAO']"
   ]
  },
  {
   "cell_type": "code",
   "execution_count": null,
   "id": "7fdc679f-ffb2-4943-bc15-5616ba8ef75e",
   "metadata": {
    "tags": []
   },
   "outputs": [],
   "source": [
    "# filtro para curados e obitos\n",
    "curados_obitos = (dataset['EVOLUCAO']==1.0) | (dataset['EVOLUCAO']== 2.0)\n",
    "# filtrar los curados y obitos en el dataset\n",
    "data_cura_obito = dataset[curados_obitos]"
   ]
  },
  {
   "cell_type": "code",
   "execution_count": null,
   "id": "ae9cc9d3-1606-49ce-9aaf-808b8090f911",
   "metadata": {
    "tags": []
   },
   "outputs": [],
   "source": [
    "# nuevo dataset\n",
    "data_cura_obito.head()"
   ]
  },
  {
   "cell_type": "code",
   "execution_count": null,
   "id": "b7164650-de2b-44b7-96ba-ff687d544286",
   "metadata": {
    "tags": []
   },
   "outputs": [],
   "source": [
    "# shape\n",
    "data_cura_obito.shape"
   ]
  },
  {
   "cell_type": "markdown",
   "id": "56dcf81d-639e-4ec0-a7ff-a1f420efde47",
   "metadata": {},
   "source": [
    "## Dataset de curados"
   ]
  },
  {
   "cell_type": "code",
   "execution_count": null,
   "id": "78012834-af9c-432f-98d1-ae62ac0ac7c9",
   "metadata": {
    "tags": []
   },
   "outputs": [],
   "source": [
    "dataset_curados = data_cura_obito[data_cura_obito['EVOLUCAO']==1.0]\n",
    "print('Curados:',dataset_curados.shape)"
   ]
  },
  {
   "cell_type": "code",
   "execution_count": null,
   "id": "c6e985b5-b917-4242-8251-5dcdb1dfdfd9",
   "metadata": {},
   "outputs": [],
   "source": [
    "# selec las caracteristicas: edad y sintomas\n",
    "keys = dataset_curados.keys()\n",
    "print(list(keys))"
   ]
  },
  {
   "cell_type": "code",
   "execution_count": null,
   "id": "71cf7f90-14ea-4762-b368-bcc19719b704",
   "metadata": {},
   "outputs": [],
   "source": [
    "# selecionr ls variables para el modelo\n",
    "cols =['NU_IDADE_N','FEBRE','TOSSE','GARGANTA','DISPNEIA', 'DESC_RESP', 'SATURACAO', 'DIARREIA', 'VOMITO', \n",
    "       'DOR_ABD','FADIGA','PERD_OLFT','PERD_PALA','OUTRO_SIN','FATOR_RISC','PUERPERA', 'CARDIOPATI',\n",
    "       'HEMATOLOGI','SIND_DOWN','HEPATICA','ASMA','DIABETES','NEUROLOGIC', 'PNEUMOPATI','IMUNODEPRE','RENAL',\n",
    "       'OBESIDADE', 'OUT_MORBI','VACINA_COV','VACINA','UTI','EVOLUCAO']\n",
    "data_curados = dataset_curados[cols]\n",
    "data_curados.head(10)"
   ]
  },
  {
   "cell_type": "code",
   "execution_count": null,
   "id": "bb2f63d6-b515-42d9-b04d-b6b8203fb47c",
   "metadata": {},
   "outputs": [],
   "source": [
    "# shape\n",
    "data_curados.shape"
   ]
  },
  {
   "cell_type": "code",
   "execution_count": null,
   "id": "4583c440-38ef-4065-ba6e-7544ed3249b4",
   "metadata": {},
   "outputs": [],
   "source": [
    "#reset index para el index ser continuo\n",
    "data_curados.reset_index(drop=True, inplace=True)\n",
    "data_curados.head(10)"
   ]
  },
  {
   "cell_type": "code",
   "execution_count": null,
   "id": "9336a440-4a3b-43d4-be8a-200ec5a71a0c",
   "metadata": {},
   "outputs": [],
   "source": [
    "# visualizando los ultimos registros del dataset\n",
    "data_curados.tail(10)"
   ]
  },
  {
   "cell_type": "code",
   "execution_count": null,
   "id": "b9fc6823-b58a-4030-827e-6914ff8d4963",
   "metadata": {},
   "outputs": [],
   "source": [
    "# criando copia\n",
    "work_curados = data_curados.copy()"
   ]
  },
  {
   "cell_type": "code",
   "execution_count": null,
   "id": "33682b59-6650-45b8-ab22-4a34c178be9e",
   "metadata": {},
   "outputs": [],
   "source": [
    "# visualiza resltado\n",
    "work_curados.head(10)"
   ]
  },
  {
   "cell_type": "code",
   "execution_count": null,
   "id": "cf64db16-537a-4a4c-9b44-cd9495f29aba",
   "metadata": {},
   "outputs": [],
   "source": [
    "# verifica dimensiones\n",
    "work_curados.shape"
   ]
  },
  {
   "cell_type": "markdown",
   "id": "ab7bc1fc-9290-42b5-a9f7-5b1beb90e56e",
   "metadata": {},
   "source": [
    ">## Modifica valor 2.0 por 0.0"
   ]
  },
  {
   "cell_type": "code",
   "execution_count": null,
   "id": "02a1d236-b6fc-49ce-bfaa-8c139d039eaa",
   "metadata": {},
   "outputs": [],
   "source": [
    "# convert colunas en binario\n",
    "list_keys = list(cols)\n",
    "#\n",
    "for k in range(1,len(list_keys)-1):\n",
    "    col_name = list_keys[k]\n",
    "    for i in range(0,167216):\n",
    "        #print(i,col)\n",
    "        v = work_curados.loc[i,col_name]\n",
    "        if v == 1.0:\n",
    "            pass\n",
    "        elif v == 2.0:\n",
    "            work_curados.loc[i,col_name]= 0.0\n",
    "        else:\n",
    "            pass"
   ]
  },
  {
   "cell_type": "code",
   "execution_count": null,
   "id": "62e04c4e-63fe-4897-b71d-010ee31fbae7",
   "metadata": {},
   "outputs": [],
   "source": [
    "# visualiza resultado\n",
    "work_curados.head(10)"
   ]
  },
  {
   "cell_type": "markdown",
   "id": "0d9d75c6-3058-4379-bc56-71776f0df5b3",
   "metadata": {},
   "source": [
    ">## Eliminar las filas com 9.0"
   ]
  },
  {
   "cell_type": "code",
   "execution_count": null,
   "id": "50a19757-e6c6-413e-a384-56655a78957e",
   "metadata": {},
   "outputs": [],
   "source": [
    "#\n",
    "# convert colunas en binario\n",
    "list_keys = list(cols)\n",
    "#\n",
    "for i in range(0,167216):\n",
    "    for k in range(1,len(list_keys)-1):\n",
    "        col_name = list_keys[k]\n",
    "        v9 = work_curados.loc[i,col_name]\n",
    "        if v9 == 9.0:\n",
    "            #print(i,col_name,v9)\n",
    "            work_curados.drop(i, axis=0, inplace=True)\n",
    "            break\n",
    "        else:\n",
    "            pass       "
   ]
  },
  {
   "cell_type": "code",
   "execution_count": null,
   "id": "27a9bfc4-1c36-44c4-95ea-d5fc078df496",
   "metadata": {},
   "outputs": [],
   "source": [
    "# ver resultados\n",
    "work_curados.head(10)"
   ]
  },
  {
   "cell_type": "code",
   "execution_count": null,
   "id": "1774db76-595c-4c26-a319-076915579f5f",
   "metadata": {},
   "outputs": [],
   "source": [
    "# re-index\n",
    "work_curados.reset_index(drop=True, inplace=True)\n",
    "work_curados.head(10)"
   ]
  },
  {
   "cell_type": "code",
   "execution_count": null,
   "id": "199972de-3b57-4c8b-a967-e7fba4a1b12f",
   "metadata": {},
   "outputs": [],
   "source": [
    "# dimensions\n",
    "dim = work_curados.shape\n",
    "print(dim)\n",
    "print('eliminados:',167216 - dim[0])"
   ]
  },
  {
   "cell_type": "code",
   "execution_count": null,
   "id": "f69bc90f-5662-4ed1-9422-e64372041c29",
   "metadata": {},
   "outputs": [],
   "source": [
    "# valores nulos - heatmap\n",
    "import missingno as msno\n",
    "%matplotlib inline\n",
    "#msno.matrix(work_curados.sample(50)) # não funciona\n",
    "msno.heatmap(work_curados)"
   ]
  },
  {
   "cell_type": "code",
   "execution_count": null,
   "id": "752af4c5-61f3-43b5-8c18-11c5d155c16b",
   "metadata": {},
   "outputs": [],
   "source": [
    "# \n",
    "def missing_values_dataset(df):\n",
    "        # Total missing values\n",
    "        mis_val = df.isnull().sum()\n",
    "        \n",
    "        # Percentage of missing values\n",
    "        mis_val_percent = 100 * df.isnull().sum() / len(df)\n",
    "        \n",
    "        # Make a table with the results\n",
    "        mis_val_table = pd.concat([mis_val, mis_val_percent], axis=1)\n",
    "        \n",
    "        # Rename the columns\n",
    "        mis_val_table_ren_columns = mis_val_table.rename(\n",
    "        columns = {0 : 'Missing Values', 1 : '% of Total Values'})\n",
    "        \n",
    "        # Sort the table by percentage of missing descending\n",
    "        mis_val_table_ren_columns = mis_val_table_ren_columns[\n",
    "            mis_val_table_ren_columns.iloc[:,1] != 0].sort_values(\n",
    "        '% of Total Values', ascending=False).round(1)\n",
    "        \n",
    "        # Print some summary information\n",
    "        print (\"Your selected dataframe has \" + str(df.shape[1]) + \" columns.\\n\"      \n",
    "            \"There are \" + str(mis_val_table_ren_columns.shape[0]) +\n",
    "              \" columns that have missing values.\")\n",
    "        \n",
    "        # Return the dataframe with missing information\n",
    "        return mis_val_table_ren_columns"
   ]
  },
  {
   "cell_type": "code",
   "execution_count": null,
   "id": "28256ba9-cd40-48da-8e73-3d86c1120a16",
   "metadata": {},
   "outputs": [],
   "source": [
    "curados = missing_values_dataset(work_curados)\n",
    "curados"
   ]
  },
  {
   "cell_type": "markdown",
   "id": "6e609e12-61b8-4299-a5b9-64bacb2d5b20",
   "metadata": {},
   "source": [
    ">## Llenar NaN com MEDIA??"
   ]
  },
  {
   "cell_type": "code",
   "execution_count": null,
   "id": "58505708-ab57-42bc-8dcd-98465247e229",
   "metadata": {},
   "outputs": [],
   "source": [
    "# convert colunas en binario\n",
    "list_keys = list(cols)\n",
    "#\n",
    "for k in range(1,len(list_keys)-1):\n",
    "    col_name = list_keys[k]\n",
    "    #print('coluna:',col_name)\n",
    "    media = work_curados[col_name].mean()\n",
    "    #print('moda:',moda)\n",
    "    if media >= 0.5:\n",
    "        med = 1.0\n",
    "    else:\n",
    "        med = 0.0\n",
    "    work_curados[col_name].fillna(med, inplace=True)\n",
    "#\n",
    "work_curados.head(10)"
   ]
  },
  {
   "cell_type": "code",
   "execution_count": null,
   "id": "8f95be74-733f-4b3c-bd51-04d0710aab5e",
   "metadata": {},
   "outputs": [],
   "source": [
    "#work_curados.drop('OUTRO_DES', axis=1, inplace=True)\n",
    "#work_curados.head(10)"
   ]
  },
  {
   "cell_type": "markdown",
   "id": "e204203c-4a71-4954-9012-be737feddd62",
   "metadata": {},
   "source": [
    "> ## Construyendo el dataset final"
   ]
  },
  {
   "cell_type": "code",
   "execution_count": null,
   "id": "435b48ea-2fcb-4e5f-b9ed-ce08956f591a",
   "metadata": {},
   "outputs": [],
   "source": [
    "#keys_col =  work_curados.keys()\n",
    "new_cols = ['NU_IDADE_N', 'FEBRE', 'TOSSE', 'DISPNEIA', 'DESC_RESP',\n",
    "       'SATURACAO', 'VOMITO', 'FADIGA', 'OUTRO_SIN', 'FATOR_RISC', 'CARDIOPATI',\n",
    "       'ASMA', 'DIABETES', 'OUT_MORBI','VACINA_COV', 'UTI', 'EVOLUCAO']\n",
    "data_curados_final = work_curados[new_cols]\n",
    "data_curados_final.head(10)"
   ]
  },
  {
   "cell_type": "code",
   "execution_count": null,
   "id": "49a6ae19-81bc-4e8a-bfd0-72d6aa07814a",
   "metadata": {},
   "outputs": [],
   "source": [
    "data_curados_final.shape"
   ]
  },
  {
   "cell_type": "code",
   "execution_count": null,
   "id": "6848185f-3177-4bc5-9b5d-022ddca3ccab",
   "metadata": {},
   "outputs": [],
   "source": []
  },
  {
   "cell_type": "markdown",
   "id": "64585ed8-673a-447f-86a2-4bd0a9a59b60",
   "metadata": {},
   "source": [
    "## Dataset de Óbitos"
   ]
  },
  {
   "cell_type": "code",
   "execution_count": null,
   "id": "e1814e90-8770-4f22-bdb7-34e21b4d2603",
   "metadata": {
    "tags": []
   },
   "outputs": [],
   "source": [
    "dataset_obitos = data_cura_obito[data_cura_obito['EVOLUCAO']==2.0]\n",
    "print('Óbitos:',dataset_obitos.shape)"
   ]
  },
  {
   "cell_type": "code",
   "execution_count": null,
   "id": "75c176d8-6752-49c4-810e-8e6bbf4d126c",
   "metadata": {},
   "outputs": [],
   "source": [
    "obitos = dataset_obitos[new_cols]\n",
    "obitos.head()"
   ]
  },
  {
   "cell_type": "code",
   "execution_count": null,
   "id": "7772a580-0d4e-42d0-8207-a7ca940ab232",
   "metadata": {},
   "outputs": [],
   "source": [
    "obitos.shape"
   ]
  },
  {
   "cell_type": "markdown",
   "id": "4f7c2f34-bba4-465d-b9e9-d66854d6f1cd",
   "metadata": {},
   "source": [
    "> ## EVOLUCION ==2.0 o 0?"
   ]
  },
  {
   "cell_type": "code",
   "execution_count": null,
   "id": "155fbeb7-3256-418d-b1df-6d7d2eacd7ea",
   "metadata": {},
   "outputs": [],
   "source": [
    "data_obitos = obitos.copy()\n",
    "data_obitos.loc[data_obitos['EVOLUCAO'] == 2.0, 'EVOLUCAO'] = 0"
   ]
  },
  {
   "cell_type": "code",
   "execution_count": null,
   "id": "80494791-f29f-424a-8998-4181b3c260bf",
   "metadata": {},
   "outputs": [],
   "source": [
    "#\n",
    "data_obitos.head(20)"
   ]
  },
  {
   "cell_type": "markdown",
   "id": "f4d312ed-cbb2-40a3-aa5e-69c5e8a1ec4d",
   "metadata": {},
   "source": [
    ">## Modifica 2.0 por 0"
   ]
  },
  {
   "cell_type": "code",
   "execution_count": null,
   "id": "2b62c2f3-ec81-4eee-bb35-e33ee80403ac",
   "metadata": {},
   "outputs": [],
   "source": [
    "# convert colunas en binario\n",
    "# re-index\n",
    "data_obitos.reset_index(drop=True, inplace=True)\n",
    "cols = data_obitos.keys()\n",
    "list_keys_o = list(cols)\n",
    "#\n",
    "for k in range(1,len(list_keys_o)-1):\n",
    "    col_name = list_keys_o[k]\n",
    "    for i in range(0,17884):\n",
    "        #print(i,col_name)\n",
    "        v = data_obitos.loc[i,col_name]\n",
    "        if v == 1.0:\n",
    "            pass\n",
    "        elif v == 2.0:\n",
    "            data_obitos.loc[i,col_name]= 0\n",
    "        else:\n",
    "            pass"
   ]
  },
  {
   "cell_type": "code",
   "execution_count": null,
   "id": "7592092a-8a26-443b-86bb-aefa404d15bf",
   "metadata": {},
   "outputs": [],
   "source": [
    "# visualiza resultado\n",
    "data_obitos.head(10)"
   ]
  },
  {
   "cell_type": "code",
   "execution_count": null,
   "id": "bfcd44e4-9c19-4d7e-a180-8cc6a609ce06",
   "metadata": {},
   "outputs": [],
   "source": [
    "data_obitos.shape"
   ]
  },
  {
   "cell_type": "markdown",
   "id": "72039767-0ee8-4ceb-8b68-2b1b638b3c3e",
   "metadata": {},
   "source": [
    ">## Elimina filas con valor 9"
   ]
  },
  {
   "cell_type": "code",
   "execution_count": null,
   "id": "38371522-67f4-47a3-875a-5ebe9d172139",
   "metadata": {},
   "outputs": [],
   "source": [
    "#\n",
    "# convert colunas en binario\n",
    "list_keyso = list(new_cols)\n",
    "#\n",
    "for i in range(0,17884):\n",
    "    for k in range(1,len(list_keyso)-1):\n",
    "        col_name = list_keyso[k]\n",
    "        v9 = data_obitos.loc[i,col_name]\n",
    "        if v9 == 9.0:\n",
    "            #print(i,col_name,v9)\n",
    "            data_obitos.drop(i, axis=0, inplace=True)\n",
    "            break\n",
    "        else:\n",
    "            pass     "
   ]
  },
  {
   "cell_type": "code",
   "execution_count": null,
   "id": "0b316e34-32ed-4450-b690-73d465346369",
   "metadata": {},
   "outputs": [],
   "source": [
    "data_obitos.head(10)"
   ]
  },
  {
   "cell_type": "code",
   "execution_count": null,
   "id": "1df60fbd-1efe-4e51-b93f-2e3248f9b38e",
   "metadata": {},
   "outputs": [],
   "source": [
    "data_obitos.shape"
   ]
  },
  {
   "cell_type": "markdown",
   "id": "6255a664-f02f-44b1-a6f9-be430870b34c",
   "metadata": {},
   "source": [
    "> ## Llenar NaN con Media??"
   ]
  },
  {
   "cell_type": "code",
   "execution_count": null,
   "id": "f8f69be1-0b87-48d8-a958-48156c81e1a4",
   "metadata": {},
   "outputs": [],
   "source": [
    "# convert colunas en binario\n",
    "list_keys_o = list(new_cols)\n",
    "#\n",
    "for k in range(1,len(list_keys_o)-1):\n",
    "    col_name = list_keys_o[k]\n",
    "    #print('coluna:',col_name)\n",
    "    media = data_obitos[col_name].mean()\n",
    "    #print('moda:',moda)\n",
    "    if media >= 0.5:\n",
    "        med = 1.0\n",
    "    else:\n",
    "        med = 0.0\n",
    "    data_obitos[col_name].fillna(med, inplace=True)\n",
    "#\n",
    "data_obitos.head(10)"
   ]
  },
  {
   "cell_type": "code",
   "execution_count": null,
   "id": "4acb39b0-747c-4aa2-9012-71b0af7dbced",
   "metadata": {},
   "outputs": [],
   "source": [
    "# dimensions\n",
    "data_obitos.shape"
   ]
  },
  {
   "cell_type": "markdown",
   "id": "fd9b1bd0-896e-4bb7-81e1-addfabcdf4a2",
   "metadata": {},
   "source": [
    ">## Verificando las dimensiones de los datasets CURADOS y OBITOS"
   ]
  },
  {
   "cell_type": "code",
   "execution_count": null,
   "id": "92771402-5e6c-47bd-9adf-b1b9b6dd4cd9",
   "metadata": {},
   "outputs": [],
   "source": [
    "# dataset curados\n",
    "data_curados_final.shape"
   ]
  },
  {
   "cell_type": "code",
   "execution_count": null,
   "id": "43bdf09d-a243-49f2-93f0-fa3ea7a9f037",
   "metadata": {},
   "outputs": [],
   "source": [
    "# dataset obitos\n",
    "data_obitos.shape"
   ]
  },
  {
   "cell_type": "code",
   "execution_count": null,
   "id": "0228609b-2955-4af6-a28f-27550af56dee",
   "metadata": {},
   "outputs": [],
   "source": [
    "# Diferencia\n",
    "c = data_curados_final.shape\n",
    "o =data_obitos.shape\n",
    "print('Diferencia:',c[0] - o[0])"
   ]
  },
  {
   "cell_type": "markdown",
   "id": "ad88abb4-563d-44f7-a5f4-40cf3633b67d",
   "metadata": {},
   "source": [
    ">## Usando scikit-learn"
   ]
  },
  {
   "cell_type": "code",
   "execution_count": null,
   "id": "782f0486-eb84-4ffa-81e6-09dbb159c583",
   "metadata": {},
   "outputs": [],
   "source": [
    "from sklearn.utils import resample\n",
    "dfc = resample(data_curados_final, n_samples=16485, replace=False, stratify=data_curados_final,random_state=0)\n",
    "dfc.head()"
   ]
  },
  {
   "cell_type": "code",
   "execution_count": null,
   "id": "0227b86b-372b-47fa-92da-cedf76376afb",
   "metadata": {},
   "outputs": [],
   "source": [
    "dfc.shape"
   ]
  },
  {
   "cell_type": "code",
   "execution_count": null,
   "id": "b58ccbb6-d9ea-4471-8e53-e1e48baf16a5",
   "metadata": {},
   "outputs": [],
   "source": [
    "# re-index\n",
    "dfc.reset_index(drop=True, inplace=True)\n",
    "dfc.head()"
   ]
  },
  {
   "cell_type": "markdown",
   "id": "3f25d789-8c01-4c74-8d34-d2d8de7a603f",
   "metadata": {},
   "source": [
    ">## Unir dos dataset"
   ]
  },
  {
   "cell_type": "code",
   "execution_count": null,
   "id": "3560a060-ec78-418f-8da3-d14b8a914a09",
   "metadata": {},
   "outputs": [],
   "source": [
    "# Concatene os DataFrames verticalmente (sem modificar as colunas)\n",
    "df_cura_obitos = pd.concat([dfc, data_obitos], ignore_index=True)\n",
    "# re-index\n",
    "df_cura_obitos.reset_index(drop=True, inplace=True)\n",
    "df_cura_obitos.head()"
   ]
  },
  {
   "cell_type": "code",
   "execution_count": null,
   "id": "41fa72cb-f65b-4948-819b-665ff99d0ed8",
   "metadata": {},
   "outputs": [],
   "source": [
    "df_cura_obitos.tail(10)"
   ]
  },
  {
   "cell_type": "code",
   "execution_count": null,
   "id": "2d83f945-7d30-4990-8823-e23dd47fe6d6",
   "metadata": {},
   "outputs": [],
   "source": [
    "df_cura_obitos.shape"
   ]
  },
  {
   "cell_type": "code",
   "execution_count": null,
   "id": "43630381-452d-4748-9626-9256cc182b8a",
   "metadata": {},
   "outputs": [],
   "source": [
    "#save dataset to csv\n",
    "def save_dataset(dataset,path,dataset_name):\n",
    "    dataset.to_csv(path+dataset_name,sep=';',encoding='utf-8',index=False)"
   ]
  },
  {
   "cell_type": "code",
   "execution_count": null,
   "id": "f726f62e-b008-4a93-aba1-5306f4b5fabc",
   "metadata": {},
   "outputs": [],
   "source": [
    "dataset = df_cura_obitos\n",
    "path = 'data/'\n",
    "dataset_name = 'curados_obitos_final.csv'\n",
    "save_dataset(dataset,path,dataset_name)"
   ]
  },
  {
   "cell_type": "markdown",
   "id": "b3e17603-40e9-4d75-9961-ad6b69b69b94",
   "metadata": {},
   "source": [
    "---\n",
    "<center><b>&copy; Jorge Zavaleta, 2024</b></center>"
   ]
  }
 ],
 "metadata": {
  "kernelspec": {
   "display_name": "Python 3 (ipykernel)",
   "language": "python",
   "name": "python3"
  },
  "language_info": {
   "codemirror_mode": {
    "name": "ipython",
    "version": 3
   },
   "file_extension": ".py",
   "mimetype": "text/x-python",
   "name": "python",
   "nbconvert_exporter": "python",
   "pygments_lexer": "ipython3",
   "version": "3.11.7"
  }
 },
 "nbformat": 4,
 "nbformat_minor": 5
}
