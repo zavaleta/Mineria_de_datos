{
 "cells": [
  {
   "cell_type": "markdown",
   "id": "85a7b51c-6ce0-417a-8cbc-d05b303d03fd",
   "metadata": {},
   "source": [
    "![logo](images/untumbes.PNG)"
   ]
  },
  {
   "cell_type": "markdown",
   "id": "5849f3cd-3fcc-4580-a5c4-e30903cc0d70",
   "metadata": {},
   "source": [
    "<center><b>Prof. Dr. Jorge Zavaleta - zavaleta.jorge@gmail.com</b></center>"
   ]
  },
  {
   "cell_type": "markdown",
   "id": "a29f1470-45d1-40f3-b16a-fad26cd89190",
   "metadata": {},
   "source": [
    "# Agrupación basada en densidad"
   ]
  },
  {
   "cell_type": "markdown",
   "id": "13cab411-f3ad-472b-83e5-ffdb4ba0be35",
   "metadata": {},
   "source": [
    "La agrupación basada en densidad identifica los grupos individuales como regiones de alta densidad que están separadas por regiones de baja densidad. \n",
    "\n",
    "DBScan es uno de los algoritmos de agrupamiento basado en densidad más populares. En DBScan, los puntos de datos se clasifican en 3 tipos (puntos centrales, puntos fronterizos y puntos de ruido) según la densidad de su vecindario local. \n",
    "\n",
    "La densidad de vecindad local se define según 2 parámetros: radio del tamaño de la vecindad (eps) y número mínimo de puntos en la vecindad (min_samples).\r\n",
    "\r\n",
    "Pa el ejemploue, utilizaremos un conjunto de datos bidimensional ruidoso creado originalmente por Karypis et al. [1] por evaluar su algoritmo CHAMELEON propuesto. El código de ejemplo que se muestra a continuación cargará y trazará la distribución de los datos."
   ]
  },
  {
   "cell_type": "code",
   "execution_count": null,
   "id": "a808302b-027b-4bc6-9e5b-2a6a9007f807",
   "metadata": {},
   "outputs": [],
   "source": [
    "# librarys\n",
    "import pandas as pd\n",
    "import numpy as np\n",
    "from sklearn import cluster\n",
    "from sklearn.cluster import DBSCAN\n",
    "#\n",
    "import matplotlib.pyplot as plt\n",
    "%matplotlib inline\n",
    "#\n",
    "import warnings\n",
    "warnings.filterwarnings(\"ignore\")"
   ]
  },
  {
   "cell_type": "code",
   "execution_count": null,
   "id": "fd8d6e3c-0c2b-4541-bc37-5c2b6ec90db8",
   "metadata": {},
   "outputs": [],
   "source": [
    "# lectura de datos\n",
    "data = pd.read_csv('data/chameleon.data', delimiter=' ', names=['x','y'])\n",
    "data.plot.scatter(x='x',y='y');"
   ]
  },
  {
   "cell_type": "markdown",
   "id": "5e3455ac-0d4e-4be7-ab84-0a9dea7a34a6",
   "metadata": {},
   "source": [
    ">## Algoritmo DB SCAN"
   ]
  },
  {
   "cell_type": "markdown",
   "id": "a30797c4-57f9-4032-9bbb-e2ed5f6c9f19",
   "metadata": {},
   "source": [
    "Aplicación del algoritmo de agrupamiento DBScan a los datos estableciendo el radio de vecindad (eps) en 15,5 y el número mínimo de puntos (min_samples) en 5. \n",
    "\n",
    "Los grupos se asignan a ID entre 0 y 8, mientras que los puntos de ruido se asignan a un grupo. ID es igual a -1."
   ]
  },
  {
   "cell_type": "code",
   "execution_count": null,
   "id": "fd9ff224-8447-464e-8984-9281a2d17416",
   "metadata": {},
   "outputs": [],
   "source": [
    "db = DBSCAN(eps=15.5, min_samples=5).fit(data)\n",
    "core_samples_mask = np.zeros_like(db.labels_, dtype=bool)\n",
    "core_samples_mask[db.core_sample_indices_] = True\n",
    "labels = pd.DataFrame(db.labels_,columns=['Cluster ID'])\n",
    "resultado = pd.concat((data,labels), axis=1)\n",
    "resultado.plot.scatter(x='x',y='y',c='Cluster ID', colormap='jet');"
   ]
  },
  {
   "cell_type": "markdown",
   "id": "e98dfc25-975d-40cc-8d31-171a39e9945f",
   "metadata": {},
   "source": [
    "References: [1] George Karypis, Eui-Hong Han, and Vipin Kumar. CHAMELEON: A Hierarchical Clustering Algorithm Using Dynamic Modeling. IEEE Computer 32(8): 68-75, 1999."
   ]
  },
  {
   "cell_type": "markdown",
   "id": "5d63baa6-0dd4-4bba-a244-39e04c9d4b91",
   "metadata": {},
   "source": [
    "---\n",
    "<center><b>&copy;Jorge Zavaleta, 2024</b></center>"
   ]
  }
 ],
 "metadata": {
  "kernelspec": {
   "display_name": "Python 3 (ipykernel)",
   "language": "python",
   "name": "python3"
  },
  "language_info": {
   "codemirror_mode": {
    "name": "ipython",
    "version": 3
   },
   "file_extension": ".py",
   "mimetype": "text/x-python",
   "name": "python",
   "nbconvert_exporter": "python",
   "pygments_lexer": "ipython3",
   "version": "3.11.7"
  }
 },
 "nbformat": 4,
 "nbformat_minor": 5
}
